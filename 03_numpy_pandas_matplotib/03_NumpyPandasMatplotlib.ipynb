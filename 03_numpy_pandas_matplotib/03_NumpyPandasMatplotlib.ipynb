{
 "cells": [
  {
   "cell_type": "markdown",
   "metadata": {},
   "source": [
    "## Lecture 3 Numpy, Pandas, Matplotlib\n",
    "01-03-2022\n",
    "\n",
    "\n",
    "Jan Šíla - jan.sila@fsv.cuni.cz\n",
    "\n",
    "### Table of contents\n",
    "\n",
    "1. [Numpy](#numpy)\n",
    "2. [Pandas](#pandas)\n",
    "3. [Matplotlib](#matplotlib)"
   ]
  },
  {
   "cell_type": "markdown",
   "metadata": {},
   "source": [
    "# 5 min warmup - 5 activity points!"
   ]
  },
  {
   "cell_type": "markdown",
   "metadata": {},
   "source": [
    "\n",
    "* What is a a keyword?\n",
    "\n",
    "* How is python indexed?\n",
    "\n",
    "* What does for-loop do?\n",
    "\n",
    "* What is an exception?\n",
    "\n",
    "* What datatype is '5'?"
   ]
  },
  {
   "cell_type": "code",
   "execution_count": 217,
   "metadata": {},
   "outputs": [
    {
     "name": "stdout",
     "output_type": "stream",
     "text": [
      "['a', 'b', 'c', 'd']\n"
     ]
    },
    {
     "data": {
      "text/plain": [
       "['__add__',\n",
       " '__class__',\n",
       " '__contains__',\n",
       " '__delattr__',\n",
       " '__delitem__',\n",
       " '__dir__',\n",
       " '__doc__',\n",
       " '__eq__',\n",
       " '__format__',\n",
       " '__ge__',\n",
       " '__getattribute__',\n",
       " '__getitem__',\n",
       " '__gt__',\n",
       " '__hash__',\n",
       " '__iadd__',\n",
       " '__imul__',\n",
       " '__init__',\n",
       " '__init_subclass__',\n",
       " '__iter__',\n",
       " '__le__',\n",
       " '__len__',\n",
       " '__lt__',\n",
       " '__mul__',\n",
       " '__ne__',\n",
       " '__new__',\n",
       " '__reduce__',\n",
       " '__reduce_ex__',\n",
       " '__repr__',\n",
       " '__reversed__',\n",
       " '__rmul__',\n",
       " '__setattr__',\n",
       " '__setitem__',\n",
       " '__sizeof__',\n",
       " '__str__',\n",
       " '__subclasshook__',\n",
       " 'append',\n",
       " 'clear',\n",
       " 'copy',\n",
       " 'count',\n",
       " 'extend',\n",
       " 'index',\n",
       " 'insert',\n",
       " 'pop',\n",
       " 'remove',\n",
       " 'reverse',\n",
       " 'sort']"
      ]
     },
     "execution_count": 217,
     "metadata": {},
     "output_type": "execute_result"
    }
   ],
   "source": [
    "#will be useful today\n",
    "# helping - similar to R \"str\"\n",
    "print(list('abcd'))\n",
    "dir(list('abcd')) "
   ]
  },
  {
   "cell_type": "markdown",
   "metadata": {},
   "source": [
    "# Moving forward from Python's primitive data types\n",
    "* Q: can you name the primitives?\n"
   ]
  },
  {
   "cell_type": "markdown",
   "metadata": {},
   "source": [
    "# Numpy <a name=\"numpy\"></a>"
   ]
  },
  {
   "cell_type": "markdown",
   "metadata": {},
   "source": [
    "* Num(erical) Py(thon)\n",
    "* NumPy is at the base of Python's scientific stack of tools \n",
    "* Python already has *high-level number objects* (integers, floating point) and *containers*  (lists, dictionaries ) \n",
    "* np arrays contain only one type - unlike general lists\n",
    "* **Memory-efficient container that provides fast numerical operations.**\n",
    "* **ndarray** = block of memory + indexing scheme + data type descriptor\n",
    "    * raw data \n",
    "    * how to locate an element\n",
    "    * how to interpret an element\n",
    "    \n",
    "<img src=\"https://scipy-lectures.org/_images/threefundamental.png\" width=\"700\" height=\"500\">"
   ]
  },
  {
   "cell_type": "code",
   "execution_count": null,
   "metadata": {},
   "outputs": [],
   "source": [
    "# it is not natively in the python distribution, do you have it installed?\n",
    "\n",
    "!pip freeze"
   ]
  },
  {
   "cell_type": "code",
   "execution_count": 221,
   "metadata": {},
   "outputs": [
    {
     "name": "stdout",
     "output_type": "stream",
     "text": [
      "total 52K\n",
      "drwxr-xr-x  6 root root  192 Mar  1 17:44 .\n",
      "drwxr-xr-x 13 root root  416 Mar  1 17:44 ..\n",
      "-rw-r--r--  1 root root 6.1K Mar  1 16:27 .DS_Store\n",
      "drwxr-xr-x  3 root root   96 Mar  1 16:43 .ipynb_checkpoints\n",
      "-rw-r--r--  1 root root  43K Mar  1 17:44 03_NumpyPandasMatplotlib.ipynb\n",
      "drwxr-xr-x  8 root root  256 Mar  1 16:35 auxiliary\n"
     ]
    }
   ],
   "source": [
    "\n",
    "# executing shell comands from the jupyter notebook\n",
    "!ls -lha\n",
    "#!pip install numpy"
   ]
  },
  {
   "cell_type": "code",
   "execution_count": 3,
   "metadata": {},
   "outputs": [],
   "source": [
    "# np is alias \"\"(used when name of the packages are too long or coders are rightly lazy)\n",
    "import numpy as np\n",
    "# very common usage"
   ]
  },
  {
   "cell_type": "code",
   "execution_count": 11,
   "metadata": {},
   "outputs": [
    {
     "name": "stdout",
     "output_type": "stream",
     "text": [
      "[0 1 2 3 4]\n"
     ]
    },
    {
     "data": {
      "text/plain": [
       "5"
      ]
     },
     "execution_count": 11,
     "metadata": {},
     "output_type": "execute_result"
    }
   ],
   "source": [
    "#simple array\n",
    "a = np.array([0, 1, 2, 3, 4])\n",
    "\n",
    "# \n",
    "print(a)\n",
    "# dir(a)\n",
    "\n",
    "# a.ndim\n",
    "\n",
    "a.shape\n",
    "\n",
    "len(a)"
   ]
  },
  {
   "cell_type": "code",
   "execution_count": 12,
   "metadata": {},
   "outputs": [
    {
     "name": "stdout",
     "output_type": "stream",
     "text": [
      "[0 1 2 3 4]\n"
     ]
    }
   ],
   "source": [
    "print(a)"
   ]
  },
  {
   "cell_type": "code",
   "execution_count": 13,
   "metadata": {},
   "outputs": [
    {
     "data": {
      "text/plain": [
       "['a', 'b']"
      ]
     },
     "execution_count": 13,
     "metadata": {},
     "output_type": "execute_result"
    }
   ],
   "source": [
    "list('ab')"
   ]
  },
  {
   "cell_type": "markdown",
   "metadata": {},
   "source": [
    "## How can you define a matrix?\n",
    "\n",
    "### array of arrays?"
   ]
  },
  {
   "cell_type": "code",
   "execution_count": 17,
   "metadata": {},
   "outputs": [],
   "source": [
    "#multi dimensional objects\n",
    "# array of array is a matrix\n",
    "a = np.array([\n",
    "    [1,3], [2,3]\n",
    "])"
   ]
  },
  {
   "cell_type": "code",
   "execution_count": 18,
   "metadata": {},
   "outputs": [
    {
     "data": {
      "text/plain": [
       "(2, 2)"
      ]
     },
     "execution_count": 18,
     "metadata": {},
     "output_type": "execute_result"
    }
   ],
   "source": [
    "a.shape"
   ]
  },
  {
   "cell_type": "code",
   "execution_count": 19,
   "metadata": {},
   "outputs": [
    {
     "data": {
      "text/plain": [
       "array([[1, 3],\n",
       "       [2, 3]])"
      ]
     },
     "execution_count": 19,
     "metadata": {},
     "output_type": "execute_result"
    }
   ],
   "source": [
    "a"
   ]
  },
  {
   "cell_type": "code",
   "execution_count": null,
   "metadata": {},
   "outputs": [],
   "source": [
    "# construct 3D array manually (focus on the brackets)\n",
    "\n"
   ]
  },
  {
   "cell_type": "code",
   "execution_count": 22,
   "metadata": {},
   "outputs": [
    {
     "name": "stdout",
     "output_type": "stream",
     "text": [
      "(2, 2, 2)\n",
      "3\n"
     ]
    }
   ],
   "source": [
    "a = np.array([[[1,3], [2,4]], [[3,5], [4,6]]])\n",
    "# print(a)\n",
    "print(a.shape)\n",
    "print(a.ndim)"
   ]
  },
  {
   "cell_type": "markdown",
   "metadata": {},
   "source": [
    "Construct array like a civilized person. (Martin Hronec's way! :)"
   ]
  },
  {
   "cell_type": "code",
   "execution_count": 23,
   "metadata": {},
   "outputs": [
    {
     "data": {
      "text/plain": [
       "[0, 1, 2, 3, 4]"
      ]
     },
     "execution_count": 23,
     "metadata": {},
     "output_type": "execute_result"
    }
   ],
   "source": [
    "list(range(5))"
   ]
  },
  {
   "cell_type": "code",
   "execution_count": 24,
   "metadata": {},
   "outputs": [
    {
     "data": {
      "text/plain": [
       "array([0, 1, 2, 3, 4, 5, 6, 7, 8, 9])"
      ]
     },
     "execution_count": 24,
     "metadata": {},
     "output_type": "execute_result"
    }
   ],
   "source": [
    "np.arange(10)"
   ]
  },
  {
   "cell_type": "code",
   "execution_count": 25,
   "metadata": {},
   "outputs": [
    {
     "data": {
      "text/plain": [
       "array([0, 1, 2, 3, 4, 5, 6, 7, 8, 9])"
      ]
     },
     "execution_count": 25,
     "metadata": {},
     "output_type": "execute_result"
    }
   ],
   "source": [
    "# evenly spaced\n",
    "a = np.arange(10)\n",
    "a"
   ]
  },
  {
   "cell_type": "code",
   "execution_count": 27,
   "metadata": {},
   "outputs": [
    {
     "ename": "ValueError",
     "evalue": "cannot reshape array of size 10 into shape (2,6)",
     "output_type": "error",
     "traceback": [
      "\u001b[0;31m---------------------------------------------------------------------------\u001b[0m",
      "\u001b[0;31mValueError\u001b[0m                                Traceback (most recent call last)",
      "\u001b[0;32m/tmp/ipykernel_102/3865089880.py\u001b[0m in \u001b[0;36m<module>\u001b[0;34m\u001b[0m\n\u001b[0;32m----> 1\u001b[0;31m \u001b[0mnp\u001b[0m\u001b[0;34m.\u001b[0m\u001b[0marange\u001b[0m\u001b[0;34m(\u001b[0m\u001b[0;36m10\u001b[0m\u001b[0;34m)\u001b[0m\u001b[0;34m.\u001b[0m\u001b[0mreshape\u001b[0m\u001b[0;34m(\u001b[0m\u001b[0;34m(\u001b[0m\u001b[0;36m2\u001b[0m\u001b[0;34m,\u001b[0m\u001b[0;36m6\u001b[0m\u001b[0;34m)\u001b[0m\u001b[0;34m)\u001b[0m\u001b[0;34m\u001b[0m\u001b[0;34m\u001b[0m\u001b[0m\n\u001b[0m",
      "\u001b[0;31mValueError\u001b[0m: cannot reshape array of size 10 into shape (2,6)"
     ]
    }
   ],
   "source": [
    "np.arange(10).reshape((2,6))\n"
   ]
  },
  {
   "cell_type": "code",
   "execution_count": null,
   "metadata": {},
   "outputs": [],
   "source": [
    "# evenly spaced\n",
    "\n",
    "# chain operations on a single object\n",
    "a = np.arange(10).reshape((2,5)).mean(axis=0)\n",
    "a"
   ]
  },
  {
   "cell_type": "markdown",
   "metadata": {},
   "source": []
  },
  {
   "cell_type": "code",
   "execution_count": 28,
   "metadata": {},
   "outputs": [
    {
     "data": {
      "text/plain": [
       "array([0.        , 0.01010101, 0.02020202, 0.03030303, 0.04040404,\n",
       "       0.05050505, 0.06060606, 0.07070707, 0.08080808, 0.09090909,\n",
       "       0.1010101 , 0.11111111, 0.12121212, 0.13131313, 0.14141414,\n",
       "       0.15151515, 0.16161616, 0.17171717, 0.18181818, 0.19191919,\n",
       "       0.2020202 , 0.21212121, 0.22222222, 0.23232323, 0.24242424,\n",
       "       0.25252525, 0.26262626, 0.27272727, 0.28282828, 0.29292929,\n",
       "       0.3030303 , 0.31313131, 0.32323232, 0.33333333, 0.34343434,\n",
       "       0.35353535, 0.36363636, 0.37373737, 0.38383838, 0.39393939,\n",
       "       0.4040404 , 0.41414141, 0.42424242, 0.43434343, 0.44444444,\n",
       "       0.45454545, 0.46464646, 0.47474747, 0.48484848, 0.49494949,\n",
       "       0.50505051, 0.51515152, 0.52525253, 0.53535354, 0.54545455,\n",
       "       0.55555556, 0.56565657, 0.57575758, 0.58585859, 0.5959596 ,\n",
       "       0.60606061, 0.61616162, 0.62626263, 0.63636364, 0.64646465,\n",
       "       0.65656566, 0.66666667, 0.67676768, 0.68686869, 0.6969697 ,\n",
       "       0.70707071, 0.71717172, 0.72727273, 0.73737374, 0.74747475,\n",
       "       0.75757576, 0.76767677, 0.77777778, 0.78787879, 0.7979798 ,\n",
       "       0.80808081, 0.81818182, 0.82828283, 0.83838384, 0.84848485,\n",
       "       0.85858586, 0.86868687, 0.87878788, 0.88888889, 0.8989899 ,\n",
       "       0.90909091, 0.91919192, 0.92929293, 0.93939394, 0.94949495,\n",
       "       0.95959596, 0.96969697, 0.97979798, 0.98989899, 1.        ])"
      ]
     },
     "execution_count": 28,
     "metadata": {},
     "output_type": "execute_result"
    }
   ],
   "source": [
    "#generate sequences\n",
    "\n",
    "# number of points from an interval\n",
    "start = 0\n",
    "end = 1\n",
    "n_points = 100\n",
    "a = np.linspace(start, end, n_points)\n",
    "a\n",
    "\n"
   ]
  },
  {
   "cell_type": "markdown",
   "metadata": {},
   "source": [
    "# why is it useful?"
   ]
  },
  {
   "cell_type": "code",
   "execution_count": null,
   "metadata": {},
   "outputs": [],
   "source": [
    "#R: seq()"
   ]
  },
  {
   "cell_type": "code",
   "execution_count": null,
   "metadata": {},
   "outputs": [],
   "source": [
    "dir(np.random)"
   ]
  },
  {
   "cell_type": "code",
   "execution_count": 31,
   "metadata": {},
   "outputs": [
    {
     "data": {
      "text/plain": [
       "array([ 0.47143516, -1.19097569,  1.43270697, -0.3126519 ])"
      ]
     },
     "execution_count": 31,
     "metadata": {},
     "output_type": "execute_result"
    }
   ],
   "source": [
    "# random seed is cell-specific! \n",
    "np.random.seed(1234)\n",
    "\n",
    "# random (normal)\n",
    "r = np.random.randn(4)\n",
    "r"
   ]
  },
  {
   "cell_type": "markdown",
   "metadata": {},
   "source": [
    "# A crucial skill"
   ]
  },
  {
   "cell_type": "markdown",
   "metadata": {},
   "source": [
    "### Indexing and Slicing\n",
    "* In 2D, the first dimension corresponds to rows, the second to columns.\n",
    "* in the multidimensional case, `a[0]` gives all elements in the unspecified dimension"
   ]
  },
  {
   "cell_type": "code",
   "execution_count": 33,
   "metadata": {},
   "outputs": [
    {
     "data": {
      "text/plain": [
       "array([[1, 0, 0, 0],\n",
       "       [0, 2, 0, 0],\n",
       "       [0, 0, 3, 0],\n",
       "       [0, 0, 0, 4]])"
      ]
     },
     "execution_count": 33,
     "metadata": {},
     "output_type": "execute_result"
    }
   ],
   "source": [
    "# create toy diagonal matrix\n",
    "a = np.diag([1,2,3,4])\n",
    "a"
   ]
  },
  {
   "cell_type": "code",
   "execution_count": 40,
   "metadata": {},
   "outputs": [
    {
     "name": "stdout",
     "output_type": "stream",
     "text": [
      "[[0 0]\n",
      " [0 0]\n",
      " [3 0]\n",
      " [0 4]]\n"
     ]
    }
   ],
   "source": [
    "\n",
    "# print(a[2]) \n",
    "\n",
    "# print(a[2,:]) #slicing - equivalent to first\n",
    "\n",
    "# print(a[2][2]) #access single element matrix\n",
    "# print(a[2,2])\n",
    "\n",
    "# print(a[:,1])\n",
    "\n",
    "print(a[:,-2:])"
   ]
  },
  {
   "cell_type": "code",
   "execution_count": 41,
   "metadata": {},
   "outputs": [
    {
     "data": {
      "text/plain": [
       "array([[1, 0, 0, 0],\n",
       "       [0, 0, 3, 0]])"
      ]
     },
     "execution_count": 41,
     "metadata": {},
     "output_type": "execute_result"
    }
   ],
   "source": [
    "a[0:3:2]"
   ]
  },
  {
   "cell_type": "code",
   "execution_count": 42,
   "metadata": {},
   "outputs": [
    {
     "data": {
      "text/plain": [
       "array([[1, 0],\n",
       "       [0, 3]])"
      ]
     },
     "execution_count": 42,
     "metadata": {},
     "output_type": "execute_result"
    }
   ],
   "source": [
    "# select from start to an end with certain step (could be zero instead of missing)\n",
    "# advanced tricks\n",
    "\n",
    "a[:3:2,:3:2] #step n is every n-th observation"
   ]
  },
  {
   "cell_type": "code",
   "execution_count": 43,
   "metadata": {},
   "outputs": [
    {
     "name": "stdout",
     "output_type": "stream",
     "text": [
      "[ 0  1  2  3  4  5  6  7  8  9 10 11 12 13 14 15 16 17 18 19 20 21 22 23\n",
      " 24 25 26 27 28 29 30 31 32 33 34 35 36 37 38 39 40 41 42 43 44 45 46 47\n",
      " 48 49 50 51 52 53 54 55 56 57 58 59 60 61 62 63 64 65 66 67 68 69 70 71\n",
      " 72 73 74 75 76 77 78 79 80 81 82 83 84 85 86 87 88 89 90 91 92 93 94 95\n",
      " 96 97 98 99]\n",
      "[99 96 93 90 87 84 81]\n"
     ]
    }
   ],
   "source": [
    "s = np.arange(100)\n",
    "print(s)\n",
    "# step can also be negative\n",
    "# start:end:step\n",
    "print(s[:80:-3])"
   ]
  },
  {
   "cell_type": "markdown",
   "metadata": {},
   "source": [
    "**Copies vs. views**\n",
    "* a slicing creates a **view** on the original array (just a way of accessing array data)\n",
    "    * the original array is not copied in memory\n",
    "* when modifying the view, the original array is modified as well! (SURPRISE, SURPRISE)\n",
    "    * allows to save memory and time\n",
    "* In CS it is called **shallow copy** vs **deep copy**"
   ]
  },
  {
   "cell_type": "code",
   "execution_count": 47,
   "metadata": {},
   "outputs": [
    {
     "name": "stdout",
     "output_type": "stream",
     "text": [
      "[0 1 2 3 4 5 6 7 8 9]\n",
      "True\n",
      "[ 0  1 22  3  4  5  6  7  8  9]\n",
      "[ 0  1 22  3  4  5  6  7  8  9]\n"
     ]
    }
   ],
   "source": [
    "a = np.arange(10)\n",
    "print(a)\n",
    "# print(np.may_share_memory(a, a[1:]))\n",
    "# print(np.may_share_memory(a, a[1:]))\n",
    "b = a \n",
    "b[2] = 22\n",
    "\n",
    "# #print(a.data, b.data)\n",
    "\n",
    "print(np.may_share_memory(a, b))\n",
    "\n",
    "print(a)\n",
    "print(b)"
   ]
  },
  {
   "cell_type": "code",
   "execution_count": 48,
   "metadata": {},
   "outputs": [
    {
     "name": "stdout",
     "output_type": "stream",
     "text": [
      "[12  1  2  3  4  5  6  7  8  9]\n",
      "[0 1 2 3 4 5 6 7 8 9]\n",
      "False\n"
     ]
    }
   ],
   "source": [
    "a = np.arange(10)\n",
    "c = a.copy()  # force a copy\n",
    "c[0] = 12\n",
    "print(c)\n",
    "print(a)\n",
    "\n",
    "print(np.may_share_memory(a, c))\n",
    "#print(a.data, c.data)"
   ]
  },
  {
   "cell_type": "markdown",
   "metadata": {},
   "source": [
    "### typical mistake in pandas slicing dataframes -> stay tuned!\n",
    "\n",
    "SettingWithCopyWarning:\n",
    " \n",
    "A value is trying to be set on a copy of a slice from a DataFrame.\n",
    "\n",
    "Try using .loc[row_indexer,col_indexer] = value instead"
   ]
  },
  {
   "cell_type": "markdown",
   "metadata": {},
   "source": [
    "**Speed of basic numpy operations**\n",
    "   * much faster then in pure python"
   ]
  },
  {
   "cell_type": "code",
   "execution_count": 49,
   "metadata": {},
   "outputs": [
    {
     "name": "stdout",
     "output_type": "stream",
     "text": [
      "The slowest run took 11.18 times longer than the fastest. This could mean that an intermediate result is being cached.\n",
      "14.3 µs ± 15.1 µs per loop (mean ± std. dev. of 7 runs, 100 loops each)\n"
     ]
    }
   ],
   "source": [
    "# if unsure about an algo\n",
    "# run on a small sample and get a time estimate! before run for days...\n",
    "a = np.arange(10000)\n",
    "%timeit -n 100 a + 1  \n",
    "\n",
    "#caching results is good!"
   ]
  },
  {
   "cell_type": "code",
   "execution_count": 50,
   "metadata": {},
   "outputs": [
    {
     "name": "stdout",
     "output_type": "stream",
     "text": [
      "683 µs ± 86.6 µs per loop (mean ± std. dev. of 7 runs, 100 loops each)\n"
     ]
    }
   ],
   "source": [
    "l = range(10000)\n",
    "%timeit -n 100 [i+1 for i in l] "
   ]
  },
  {
   "cell_type": "code",
   "execution_count": 51,
   "metadata": {},
   "outputs": [
    {
     "name": "stdout",
     "output_type": "stream",
     "text": [
      "CPU times: user 3.78 ms, sys: 0 ns, total: 3.78 ms\n",
      "Wall time: 3.78 ms\n"
     ]
    }
   ],
   "source": [
    "# remember the difference between %time and %timeit\n",
    "#timeit runs a number of loops\n",
    "\n",
    "%time res = [i+1 for i in a]"
   ]
  },
  {
   "cell_type": "code",
   "execution_count": 52,
   "metadata": {},
   "outputs": [
    {
     "name": "stdout",
     "output_type": "stream",
     "text": [
      "4.35 µs ± 171 ns per loop (mean ± std. dev. of 7 runs, 100000 loops each)\n"
     ]
    }
   ],
   "source": [
    "%timeit res =  a + 1 "
   ]
  },
  {
   "cell_type": "markdown",
   "metadata": {},
   "source": [
    "**Changing shape of an array**\n",
    "* flattening\n",
    "* reshaping (inverse of flattening)"
   ]
  },
  {
   "cell_type": "code",
   "execution_count": 54,
   "metadata": {},
   "outputs": [
    {
     "data": {
      "text/plain": [
       "array([[1, 2, 3],\n",
       "       [4, 5, 6]])"
      ]
     },
     "execution_count": 54,
     "metadata": {},
     "output_type": "execute_result"
    }
   ],
   "source": [
    "a = np.array([[1, 2, 3], [4, 5, 6]])\n",
    "a"
   ]
  },
  {
   "cell_type": "code",
   "execution_count": 55,
   "metadata": {},
   "outputs": [
    {
     "name": "stdout",
     "output_type": "stream",
     "text": [
      "[1 2 3 4 5 6]\n"
     ]
    }
   ],
   "source": [
    "# flattening\n",
    "print(a.flatten())\n"
   ]
  },
  {
   "cell_type": "code",
   "execution_count": 56,
   "metadata": {},
   "outputs": [
    {
     "name": "stdout",
     "output_type": "stream",
     "text": [
      "(2, 3)\n"
     ]
    },
    {
     "data": {
      "text/plain": [
       "array([[1, 4],\n",
       "       [2, 5],\n",
       "       [3, 6]])"
      ]
     },
     "execution_count": 56,
     "metadata": {},
     "output_type": "execute_result"
    }
   ],
   "source": [
    "print(a.shape)\n",
    "a.T"
   ]
  },
  {
   "cell_type": "code",
   "execution_count": 57,
   "metadata": {},
   "outputs": [
    {
     "data": {
      "text/plain": [
       "array([1, 4, 2, 5, 3, 6])"
      ]
     },
     "execution_count": 57,
     "metadata": {},
     "output_type": "execute_result"
    }
   ],
   "source": [
    "a.T.flatten() #or usre flatten/ravel order='F' in Fortran column-wise order"
   ]
  },
  {
   "cell_type": "code",
   "execution_count": 58,
   "metadata": {},
   "outputs": [
    {
     "data": {
      "text/plain": [
       "array([1, 2, 3, 4, 5, 6])"
      ]
     },
     "execution_count": 58,
     "metadata": {},
     "output_type": "execute_result"
    }
   ],
   "source": [
    "a.T.flatten(order='F')"
   ]
  },
  {
   "cell_type": "code",
   "execution_count": 59,
   "metadata": {},
   "outputs": [
    {
     "data": {
      "text/plain": [
       "array([[  2.71828183,   7.3890561 ,  20.08553692],\n",
       "       [ 54.59815003, 148.4131591 , 403.42879349]])"
      ]
     },
     "execution_count": 59,
     "metadata": {},
     "output_type": "execute_result"
    }
   ],
   "source": [
    "np.exp(a) # a bit like R - vectorized operations"
   ]
  },
  {
   "cell_type": "markdown",
   "metadata": {},
   "source": [
    "**Pictures? Just pixels.**"
   ]
  },
  {
   "cell_type": "code",
   "execution_count": 60,
   "metadata": {},
   "outputs": [],
   "source": [
    "# we will get to the matplotlib and pyplot in the last part of the lecture\n",
    "import matplotlib.pyplot as plt\n",
    "# another ipython magic\n",
    "%matplotlib inline "
   ]
  },
  {
   "cell_type": "code",
   "execution_count": 61,
   "metadata": {},
   "outputs": [
    {
     "data": {
      "text/plain": [
       "<matplotlib.image.AxesImage at 0x7f0a82a09910>"
      ]
     },
     "execution_count": 61,
     "metadata": {},
     "output_type": "execute_result"
    },
    {
     "data": {
      "image/png": "[encoded data removed]",
      "text/plain": [
       "<Figure size 432x288 with 1 Axes>"
      ]
     },
     "metadata": {
      "needs_background": "light"
     },
     "output_type": "display_data"
    }
   ],
   "source": [
    "# for more M.C. Escher's pictures: https://www.mcescher.com/\n",
    "img = plt.imread('auxiliary/mc_escher_print gallery.png')\n",
    "plt.imshow(img,interpolation='nearest', aspect='auto')"
   ]
  },
  {
   "cell_type": "code",
   "execution_count": null,
   "metadata": {},
   "outputs": [],
   "source": [
    "img"
   ]
  },
  {
   "cell_type": "code",
   "execution_count": 62,
   "metadata": {},
   "outputs": [
    {
     "data": {
      "text/plain": [
       "(1024, 1280, 4)"
      ]
     },
     "execution_count": 62,
     "metadata": {},
     "output_type": "execute_result"
    }
   ],
   "source": [
    "# image shape as (H, W, D), depth: https://www.wikiwand.com/en/Color_depth\n",
    "img.shape"
   ]
  },
  {
   "cell_type": "code",
   "execution_count": null,
   "metadata": {},
   "outputs": [],
   "source": [
    "# just an array!\n",
    "img"
   ]
  },
  {
   "cell_type": "code",
   "execution_count": 64,
   "metadata": {},
   "outputs": [],
   "source": [
    "self_centered = img[200:,200:500]"
   ]
  },
  {
   "cell_type": "code",
   "execution_count": 65,
   "metadata": {},
   "outputs": [
    {
     "data": {
      "text/plain": [
       "<matplotlib.image.AxesImage at 0x7f0a820cd950>"
      ]
     },
     "execution_count": 65,
     "metadata": {},
     "output_type": "execute_result"
    },
    {
     "data": {
      "image/png": "[encoded data removed]",
      "text/plain": [
       "<Figure size 432x288 with 1 Axes>"
      ]
     },
     "metadata": {
      "needs_background": "light"
     },
     "output_type": "display_data"
    }
   ],
   "source": [
    "plt.imshow(self_centered)"
   ]
  },
  {
   "cell_type": "code",
   "execution_count": 66,
   "metadata": {},
   "outputs": [
    {
     "name": "stderr",
     "output_type": "stream",
     "text": [
      "Clipping input data to the valid range for imshow with RGB data ([0..1] for floats or [0..255] for integers).\n"
     ]
    },
    {
     "data": {
      "text/plain": [
       "<matplotlib.image.AxesImage at 0x7f0a8203cfd0>"
      ]
     },
     "execution_count": 66,
     "metadata": {},
     "output_type": "execute_result"
    },
    {
     "data": {
      "image/png": "[encoded data removed]",
      "text/plain": [
       "<Figure size 216x216 with 1 Axes>"
      ]
     },
     "metadata": {
      "needs_background": "light"
     },
     "output_type": "display_data"
    }
   ],
   "source": [
    "lx, ly, ld = img.shape\n",
    "X, Y = np.ogrid[0:lx, 0:ly]\n",
    "mask = (X - lx/2)**2 + (Y - ly/2)**2 > lx*ly/4\n",
    "img[mask] = 0\n",
    "img[range(300), range(300)] = 255\n",
    "\n",
    "plt.figure(figsize=(3, 3))\n",
    "plt.axes([0, 0, 1, 1])\n",
    "plt.imshow(img, cmap=plt.cm.gray)"
   ]
  },
  {
   "cell_type": "markdown",
   "metadata": {},
   "source": [
    "# Pandas <a name=\"pandas\"></a>\n",
    "\n",
    "* Pan(el) Da(ta)\n",
    "* go-to package for data analysis in Python\n",
    "* designed for working with \"labeled\" (relational data)\n",
    "* developed by Wes McKinney in 2008 while at AQR Capital Management out of the need for a tool to perform quantitative analysis on financial data (convinced AQR to open-source it)\n",
    "\n",
    "* two primary data structures:\n",
    "    * *Series* (1D labeled homogeneously-typed array)\n",
    "    * *DataFrame* (2D labeled, tabular structure with potentially heterogeneously-typed column)\n",
    "* more dimensions? MultiIndex.\n",
    "* built on top of NumPy"
   ]
  },
  {
   "cell_type": "code",
   "execution_count": 67,
   "metadata": {},
   "outputs": [],
   "source": [
    "import pandas as pd\n",
    "import sys"
   ]
  },
  {
   "cell_type": "code",
   "execution_count": 68,
   "metadata": {},
   "outputs": [
    {
     "name": "stdout",
     "output_type": "stream",
     "text": [
      "Python version 3.7.5 (default, Nov 23 2019, 05:59:34) \n",
      "[GCC 8.3.0]\n",
      "Pandas version 1.3.4\n"
     ]
    }
   ],
   "source": [
    "print(f'Python version {sys.version}')\n",
    "print(f'Pandas version {pd.__version__}')"
   ]
  },
  {
   "cell_type": "markdown",
   "metadata": {},
   "source": [
    "## Data structures in pandas\n",
    "\n",
    "### Series\n",
    "* 1D labeled array able to hold any data type (int,str,float, Python objects, etc.)"
   ]
  },
  {
   "cell_type": "code",
   "execution_count": 70,
   "metadata": {},
   "outputs": [
    {
     "data": {
      "text/plain": [
       "0    1\n",
       "1   -1\n",
       "2    1\n",
       "3   -1\n",
       "dtype: int64"
      ]
     },
     "execution_count": 70,
     "metadata": {},
     "output_type": "execute_result"
    }
   ],
   "source": [
    "# the basic method to create a Series\n",
    "data = [1,-1,1,-1]\n",
    "\n",
    "# if no index is passed, one will be created having values [0, ..., len(data) - 1].\n",
    "\n",
    "s = pd.Series(data)\n",
    "s\n",
    "\n",
    "#index is a unique identifier like with lists (does not need to be numeric or even uniform)"
   ]
  },
  {
   "cell_type": "code",
   "execution_count": null,
   "metadata": {},
   "outputs": [],
   "source": [
    "dir(s)"
   ]
  },
  {
   "cell_type": "markdown",
   "metadata": {},
   "source": [
    "`data` (in the example above) can be:\n",
    "    * a dict\n",
    "    * a list\n",
    "    * an ndarray\n",
    "    * a scalar value\n",
    "\n",
    "\n",
    "Examples of from dict and a scalar value below:"
   ]
  },
  {
   "cell_type": "code",
   "execution_count": 74,
   "metadata": {},
   "outputs": [
    {
     "data": {
      "text/plain": [
       "aa     1\n",
       "aaa    g\n",
       "dtype: object"
      ]
     },
     "execution_count": 74,
     "metadata": {},
     "output_type": "execute_result"
    }
   ],
   "source": [
    "# in case of dictionary\n",
    "d = {'aa':1, 'aaa':'b', 'aaa':'g'}\n",
    "pd.Series(d)\n",
    "#dictionary keys serve as index - similar meaning"
   ]
  },
  {
   "cell_type": "code",
   "execution_count": 77,
   "metadata": {},
   "outputs": [
    {
     "data": {
      "text/plain": [
       "a    0\n",
       "b    1\n",
       "c    2\n",
       "d    3\n",
       "e    4\n",
       "dtype: int64"
      ]
     },
     "execution_count": 77,
     "metadata": {},
     "output_type": "execute_result"
    }
   ],
   "source": [
    "pd.Series(np.arange(5), index=['a', 'b', 'c', 'd','e'])"
   ]
  },
  {
   "cell_type": "markdown",
   "metadata": {},
   "source": [
    "* a key difference between Series/pandas and ndarray: operations between Series automatically align the data based on label"
   ]
  },
  {
   "cell_type": "code",
   "execution_count": 78,
   "metadata": {},
   "outputs": [
    {
     "name": "stdout",
     "output_type": "stream",
     "text": [
      "A:\n",
      "1    1\n",
      "2   -1\n",
      "3    1\n",
      "4   -1\n",
      "dtype: int64\n",
      "B:\n",
      "2   -1\n",
      "1    1\n",
      "4   -1\n",
      "3    1\n",
      "dtype: int64\n"
     ]
    },
    {
     "data": {
      "text/plain": [
       "1    2\n",
       "2   -2\n",
       "3    2\n",
       "4   -2\n",
       "dtype: int64"
      ]
     },
     "execution_count": 78,
     "metadata": {},
     "output_type": "execute_result"
    }
   ],
   "source": [
    "a = pd.Series([1,-1,1,-1], index = [1,2,3,4])\n",
    "b = pd.Series([-1,1,-1,1], index = [2,1,4,3])\n",
    "print(f'A:\\n{a}\\nB:\\n{b}')\n",
    "a+ b"
   ]
  },
  {
   "cell_type": "code",
   "execution_count": 80,
   "metadata": {},
   "outputs": [
    {
     "data": {
      "text/plain": [
       "array([0, 0, 0, 0])"
      ]
     },
     "execution_count": 80,
     "metadata": {},
     "output_type": "execute_result"
    }
   ],
   "source": [
    "a = [1,-1,1,-1]\n",
    "b = [-1,1,-1,1]\n",
    "\n",
    "np.array(a) + np.array(b) # now works as expected"
   ]
  },
  {
   "cell_type": "markdown",
   "metadata": {},
   "source": [
    "* looping through (value-by-value) usually not necessary, remember the case of np array"
   ]
  },
  {
   "cell_type": "markdown",
   "metadata": {},
   "source": [
    "###  DataFrame\n",
    "\n",
    "* a 2D labeled data structure with columns of potentially different types\n",
    "* like a spreadsheet or SQL table, or a dict of Series objects\n",
    "* the most frequently used pandas object \n",
    "* can be created:\n",
    "    * typically by reading a csv file\n",
    "    * dict of 1D ndarrays, lists, dicts, Series\n",
    "    * 2D numpy.ndarray\n",
    "    * a Series\n",
    "    * another DataFrame"
   ]
  },
  {
   "cell_type": "code",
   "execution_count": 81,
   "metadata": {},
   "outputs": [
    {
     "data": {
      "text/html": [
       "<div>\n",
       "<style scoped>\n",
       "    .dataframe tbody tr th:only-of-type {\n",
       "        vertical-align: middle;\n",
       "    }\n",
       "\n",
       "    .dataframe tbody tr th {\n",
       "        vertical-align: top;\n",
       "    }\n",
       "\n",
       "    .dataframe thead th {\n",
       "        text-align: right;\n",
       "    }\n",
       "</style>\n",
       "<table border=\"1\" class=\"dataframe\">\n",
       "  <thead>\n",
       "    <tr style=\"text-align: right;\">\n",
       "      <th></th>\n",
       "      <th>var</th>\n",
       "      <th>column2</th>\n",
       "    </tr>\n",
       "  </thead>\n",
       "  <tbody>\n",
       "    <tr>\n",
       "      <th>0</th>\n",
       "      <td>1</td>\n",
       "      <td>0</td>\n",
       "    </tr>\n",
       "    <tr>\n",
       "      <th>1</th>\n",
       "      <td>2</td>\n",
       "      <td>0</td>\n",
       "    </tr>\n",
       "    <tr>\n",
       "      <th>2</th>\n",
       "      <td>3</td>\n",
       "      <td>0</td>\n",
       "    </tr>\n",
       "  </tbody>\n",
       "</table>\n",
       "</div>"
      ],
      "text/plain": [
       "   var  column2\n",
       "0    1        0\n",
       "1    2        0\n",
       "2    3        0"
      ]
     },
     "execution_count": 81,
     "metadata": {},
     "output_type": "execute_result"
    }
   ],
   "source": [
    "pd.DataFrame({'var':[1,2,3], 'column2':[0,0,0]})"
   ]
  },
  {
   "cell_type": "code",
   "execution_count": 85,
   "metadata": {},
   "outputs": [
    {
     "data": {
      "text/html": [
       "<div>\n",
       "<style scoped>\n",
       "    .dataframe tbody tr th:only-of-type {\n",
       "        vertical-align: middle;\n",
       "    }\n",
       "\n",
       "    .dataframe tbody tr th {\n",
       "        vertical-align: top;\n",
       "    }\n",
       "\n",
       "    .dataframe thead th {\n",
       "        text-align: right;\n",
       "    }\n",
       "</style>\n",
       "<table border=\"1\" class=\"dataframe\">\n",
       "  <thead>\n",
       "    <tr style=\"text-align: right;\">\n",
       "      <th></th>\n",
       "      <th>one</th>\n",
       "      <th>two</th>\n",
       "    </tr>\n",
       "  </thead>\n",
       "  <tbody>\n",
       "    <tr>\n",
       "      <th>a</th>\n",
       "      <td>1.0</td>\n",
       "      <td>1.0</td>\n",
       "    </tr>\n",
       "    <tr>\n",
       "      <th>b</th>\n",
       "      <td>NaN</td>\n",
       "      <td>2.0</td>\n",
       "    </tr>\n",
       "    <tr>\n",
       "      <th>c</th>\n",
       "      <td>3.0</td>\n",
       "      <td>3.0</td>\n",
       "    </tr>\n",
       "    <tr>\n",
       "      <th>d</th>\n",
       "      <td>NaN</td>\n",
       "      <td>4.0</td>\n",
       "    </tr>\n",
       "    <tr>\n",
       "      <th>e</th>\n",
       "      <td>2.0</td>\n",
       "      <td>NaN</td>\n",
       "    </tr>\n",
       "  </tbody>\n",
       "</table>\n",
       "</div>"
      ],
      "text/plain": [
       "   one  two\n",
       "a  1.0  1.0\n",
       "b  NaN  2.0\n",
       "c  3.0  3.0\n",
       "d  NaN  4.0\n",
       "e  2.0  NaN"
      ]
     },
     "execution_count": 85,
     "metadata": {},
     "output_type": "execute_result"
    }
   ],
   "source": [
    "# from dict of Series\n",
    "d = {'one': pd.Series([1., 2., 3.],     index=['a', 'e', 'c']),\n",
    "     'two': pd.Series([2., 1., 3., 4.], index=['b', 'a', 'c', 'd'])}\n",
    "\n",
    "df = pd.DataFrame(d)\n",
    "df"
   ]
  },
  {
   "cell_type": "markdown",
   "metadata": {},
   "source": [
    "Now that we have our data unzipped, we can load them into Python, specifically using Pandas tools.\n",
    "\n",
    "### Data I/O (in/out)\n",
    "* CSV, JSON, HTML, Excel, HDF5, SQL, pickle, ...\n",
    "    * for specific details, see [documentation](https://pandas.pydata.org/pandas-docs/stable/user_guide/io.html)\n",
    "* `pd.read_csv()` is the workhorse for reading text files\n",
    "    * large number of params means great flexibility when getting data in\n",
    "    \n",
    "We will work with the course evaluation data from FSV.\n",
    "  * each observation is a response to the following questionare (... hope it reminds you of something)"
   ]
  },
  {
   "cell_type": "code",
   "execution_count": 88,
   "metadata": {},
   "outputs": [
    {
     "name": "stderr",
     "output_type": "stream",
     "text": [
      "b'Skipping line 279: expected 21 fields, saw 22\\nSkipping line 4057: expected 21 fields, saw 22\\n'\n"
     ]
    }
   ],
   "source": [
    "# load the \"raw\" data for one particular year\n",
    "df = pd.read_csv('auxiliary/data_2017_zs.csv',\n",
    "            sep = ';', error_bad_lines=False )"
   ]
  },
  {
   "cell_type": "code",
   "execution_count": 89,
   "metadata": {},
   "outputs": [
    {
     "data": {
      "text/html": [
       "<div>\n",
       "<style scoped>\n",
       "    .dataframe tbody tr th:only-of-type {\n",
       "        vertical-align: middle;\n",
       "    }\n",
       "\n",
       "    .dataframe tbody tr th {\n",
       "        vertical-align: top;\n",
       "    }\n",
       "\n",
       "    .dataframe thead th {\n",
       "        text-align: right;\n",
       "    }\n",
       "</style>\n",
       "<table border=\"1\" class=\"dataframe\">\n",
       "  <thead>\n",
       "    <tr style=\"text-align: right;\">\n",
       "      <th></th>\n",
       "      <th>cislo_dot</th>\n",
       "      <th>kod_predm</th>\n",
       "      <th>nazev_predm</th>\n",
       "      <th>prednasejici</th>\n",
       "      <th>cvicici</th>\n",
       "      <th>q1</th>\n",
       "      <th>q2</th>\n",
       "      <th>q3</th>\n",
       "      <th>q4</th>\n",
       "      <th>q5</th>\n",
       "      <th>...</th>\n",
       "      <th>q7</th>\n",
       "      <th>q8</th>\n",
       "      <th>q9</th>\n",
       "      <th>q10</th>\n",
       "      <th>q11</th>\n",
       "      <th>q12</th>\n",
       "      <th>q13</th>\n",
       "      <th>t1</th>\n",
       "      <th>t2</th>\n",
       "      <th>katedra_code</th>\n",
       "    </tr>\n",
       "  </thead>\n",
       "  <tbody>\n",
       "    <tr>\n",
       "      <th>0</th>\n",
       "      <td>1</td>\n",
       "      <td>JEB003</td>\n",
       "      <td>Ekonomie I</td>\n",
       "      <td>Fanta,N.,Kracík,J.,Švarcová,N.</td>\n",
       "      <td>Fanta,N.,Kracík,J.,Švarcová,N.</td>\n",
       "      <td>3.0</td>\n",
       "      <td>5.0</td>\n",
       "      <td>4.0</td>\n",
       "      <td>5.0</td>\n",
       "      <td>4.0</td>\n",
       "      <td>...</td>\n",
       "      <td>4.0</td>\n",
       "      <td>3.0</td>\n",
       "      <td>1.0</td>\n",
       "      <td>4.0</td>\n",
       "      <td>1.0</td>\n",
       "      <td>NaN</td>\n",
       "      <td>2.0</td>\n",
       "      <td>NaN</td>\n",
       "      <td>NaN</td>\n",
       "      <td>ies</td>\n",
       "    </tr>\n",
       "    <tr>\n",
       "      <th>1</th>\n",
       "      <td>2</td>\n",
       "      <td>JLB003</td>\n",
       "      <td>Angličtina pro ekonomy I</td>\n",
       "      <td>NaN</td>\n",
       "      <td>Poslušná,L.</td>\n",
       "      <td>5.0</td>\n",
       "      <td>3.0</td>\n",
       "      <td>NaN</td>\n",
       "      <td>NaN</td>\n",
       "      <td>NaN</td>\n",
       "      <td>...</td>\n",
       "      <td>5.0</td>\n",
       "      <td>5.0</td>\n",
       "      <td>1.0</td>\n",
       "      <td>5.0</td>\n",
       "      <td>5.0</td>\n",
       "      <td>5.0</td>\n",
       "      <td>5.0</td>\n",
       "      <td>NaN</td>\n",
       "      <td>NaN</td>\n",
       "      <td>cjp</td>\n",
       "    </tr>\n",
       "    <tr>\n",
       "      <th>2</th>\n",
       "      <td>3</td>\n",
       "      <td>NMMA701</td>\n",
       "      <td>Matematika 1</td>\n",
       "      <td>Spurný,J.</td>\n",
       "      <td>Rondoš,J.</td>\n",
       "      <td>3.0</td>\n",
       "      <td>5.0</td>\n",
       "      <td>3.0</td>\n",
       "      <td>2.0</td>\n",
       "      <td>1.0</td>\n",
       "      <td>...</td>\n",
       "      <td>4.0</td>\n",
       "      <td>5.0</td>\n",
       "      <td>1.0</td>\n",
       "      <td>3.0</td>\n",
       "      <td>2.0</td>\n",
       "      <td>2.0</td>\n",
       "      <td>1.0</td>\n",
       "      <td>NaN</td>\n",
       "      <td>NaN</td>\n",
       "      <td>ies</td>\n",
       "    </tr>\n",
       "    <tr>\n",
       "      <th>3</th>\n",
       "      <td>4</td>\n",
       "      <td>JEB023</td>\n",
       "      <td>Úvod do studia práva</td>\n",
       "      <td>Pražák,P.,Wintr,J.</td>\n",
       "      <td>NaN</td>\n",
       "      <td>3.0</td>\n",
       "      <td>4.0</td>\n",
       "      <td>3.0</td>\n",
       "      <td>3.0</td>\n",
       "      <td>1.0</td>\n",
       "      <td>...</td>\n",
       "      <td>NaN</td>\n",
       "      <td>NaN</td>\n",
       "      <td>1.0</td>\n",
       "      <td>3.0</td>\n",
       "      <td>2.0</td>\n",
       "      <td>3.0</td>\n",
       "      <td>2.0</td>\n",
       "      <td>NaN</td>\n",
       "      <td>NaN</td>\n",
       "      <td>ies</td>\n",
       "    </tr>\n",
       "    <tr>\n",
       "      <th>4</th>\n",
       "      <td>5</td>\n",
       "      <td>JEB055</td>\n",
       "      <td>Seminář k aktualitám I</td>\n",
       "      <td>NaN</td>\n",
       "      <td>Vyhnánek,T.</td>\n",
       "      <td>2.0</td>\n",
       "      <td>3.0</td>\n",
       "      <td>NaN</td>\n",
       "      <td>NaN</td>\n",
       "      <td>NaN</td>\n",
       "      <td>...</td>\n",
       "      <td>3.0</td>\n",
       "      <td>1.0</td>\n",
       "      <td>1.0</td>\n",
       "      <td>4.0</td>\n",
       "      <td>2.0</td>\n",
       "      <td>2.0</td>\n",
       "      <td>1.0</td>\n",
       "      <td>NaN</td>\n",
       "      <td>NaN</td>\n",
       "      <td>ies</td>\n",
       "    </tr>\n",
       "    <tr>\n",
       "      <th>5</th>\n",
       "      <td>6</td>\n",
       "      <td>JPM314</td>\n",
       "      <td>Theories of International Relations</td>\n",
       "      <td>Ditrych,O.,Plechanovová,B.</td>\n",
       "      <td>NaN</td>\n",
       "      <td>2.0</td>\n",
       "      <td>3.0</td>\n",
       "      <td>2.0</td>\n",
       "      <td>4.0</td>\n",
       "      <td>1.0</td>\n",
       "      <td>...</td>\n",
       "      <td>NaN</td>\n",
       "      <td>NaN</td>\n",
       "      <td>2.0</td>\n",
       "      <td>3.0</td>\n",
       "      <td>1.0</td>\n",
       "      <td>3.0</td>\n",
       "      <td>1.0</td>\n",
       "      <td>NaN</td>\n",
       "      <td>NaN</td>\n",
       "      <td>kmv</td>\n",
       "    </tr>\n",
       "    <tr>\n",
       "      <th>6</th>\n",
       "      <td>7</td>\n",
       "      <td>JEB998</td>\n",
       "      <td>Úvod do ekonomie</td>\n",
       "      <td>Kameníček,J.</td>\n",
       "      <td>NaN</td>\n",
       "      <td>4.0</td>\n",
       "      <td>3.0</td>\n",
       "      <td>2.0</td>\n",
       "      <td>3.0</td>\n",
       "      <td>2.0</td>\n",
       "      <td>...</td>\n",
       "      <td>NaN</td>\n",
       "      <td>NaN</td>\n",
       "      <td>1.0</td>\n",
       "      <td>3.0</td>\n",
       "      <td>1.0</td>\n",
       "      <td>2.0</td>\n",
       "      <td>3.0</td>\n",
       "      <td>NaN</td>\n",
       "      <td>NaN</td>\n",
       "      <td>ies</td>\n",
       "    </tr>\n",
       "    <tr>\n",
       "      <th>7</th>\n",
       "      <td>8</td>\n",
       "      <td>JEB058</td>\n",
       "      <td>Seminář matematické analýzy I</td>\n",
       "      <td>NaN</td>\n",
       "      <td>Stráský,J.</td>\n",
       "      <td>4.0</td>\n",
       "      <td>4.0</td>\n",
       "      <td>NaN</td>\n",
       "      <td>NaN</td>\n",
       "      <td>NaN</td>\n",
       "      <td>...</td>\n",
       "      <td>5.0</td>\n",
       "      <td>5.0</td>\n",
       "      <td>1.0</td>\n",
       "      <td>1.0</td>\n",
       "      <td>2.0</td>\n",
       "      <td>3.0</td>\n",
       "      <td>5.0</td>\n",
       "      <td>NaN</td>\n",
       "      <td>NaN</td>\n",
       "      <td>ies</td>\n",
       "    </tr>\n",
       "    <tr>\n",
       "      <th>8</th>\n",
       "      <td>9</td>\n",
       "      <td>JPM561</td>\n",
       "      <td>Regional Security Studies</td>\n",
       "      <td>Karásek,T.,Klosek,K.</td>\n",
       "      <td>Karásek,T.,Klosek,K.</td>\n",
       "      <td>5.0</td>\n",
       "      <td>3.0</td>\n",
       "      <td>5.0</td>\n",
       "      <td>5.0</td>\n",
       "      <td>4.0</td>\n",
       "      <td>...</td>\n",
       "      <td>5.0</td>\n",
       "      <td>4.0</td>\n",
       "      <td>1.0</td>\n",
       "      <td>5.0</td>\n",
       "      <td>4.0</td>\n",
       "      <td>5.0</td>\n",
       "      <td>5.0</td>\n",
       "      <td>NaN</td>\n",
       "      <td>NaN</td>\n",
       "      <td>kbs</td>\n",
       "    </tr>\n",
       "    <tr>\n",
       "      <th>9</th>\n",
       "      <td>10</td>\n",
       "      <td>JEB998</td>\n",
       "      <td>Úvod do ekonomie</td>\n",
       "      <td>Kameníček,J.</td>\n",
       "      <td>NaN</td>\n",
       "      <td>3.0</td>\n",
       "      <td>4.0</td>\n",
       "      <td>2.0</td>\n",
       "      <td>2.0</td>\n",
       "      <td>2.0</td>\n",
       "      <td>...</td>\n",
       "      <td>NaN</td>\n",
       "      <td>NaN</td>\n",
       "      <td>1.0</td>\n",
       "      <td>3.0</td>\n",
       "      <td>3.0</td>\n",
       "      <td>3.0</td>\n",
       "      <td>1.0</td>\n",
       "      <td>NaN</td>\n",
       "      <td>NaN</td>\n",
       "      <td>ies</td>\n",
       "    </tr>\n",
       "    <tr>\n",
       "      <th>10</th>\n",
       "      <td>11</td>\n",
       "      <td>JLB001</td>\n",
       "      <td>Angličtina pro sociology I</td>\n",
       "      <td>NaN</td>\n",
       "      <td>Štěpánková,D.</td>\n",
       "      <td>3.0</td>\n",
       "      <td>1.0</td>\n",
       "      <td>NaN</td>\n",
       "      <td>NaN</td>\n",
       "      <td>NaN</td>\n",
       "      <td>...</td>\n",
       "      <td>4.0</td>\n",
       "      <td>2.0</td>\n",
       "      <td>2.0</td>\n",
       "      <td>1.0</td>\n",
       "      <td>2.0</td>\n",
       "      <td>1.0</td>\n",
       "      <td>2.0</td>\n",
       "      <td>NaN</td>\n",
       "      <td>NaN</td>\n",
       "      <td>cjp</td>\n",
       "    </tr>\n",
       "    <tr>\n",
       "      <th>11</th>\n",
       "      <td>12</td>\n",
       "      <td>JPM698</td>\n",
       "      <td>Middle East Security</td>\n",
       "      <td>Daniel,J.</td>\n",
       "      <td>NaN</td>\n",
       "      <td>5.0</td>\n",
       "      <td>3.0</td>\n",
       "      <td>4.0</td>\n",
       "      <td>5.0</td>\n",
       "      <td>5.0</td>\n",
       "      <td>...</td>\n",
       "      <td>NaN</td>\n",
       "      <td>NaN</td>\n",
       "      <td>2.0</td>\n",
       "      <td>5.0</td>\n",
       "      <td>4.0</td>\n",
       "      <td>4.0</td>\n",
       "      <td>4.0</td>\n",
       "      <td>NaN</td>\n",
       "      <td>NaN</td>\n",
       "      <td>kbs</td>\n",
       "    </tr>\n",
       "    <tr>\n",
       "      <th>12</th>\n",
       "      <td>13</td>\n",
       "      <td>JEB998</td>\n",
       "      <td>Úvod do ekonomie</td>\n",
       "      <td>Kameníček,J.</td>\n",
       "      <td>NaN</td>\n",
       "      <td>1.0</td>\n",
       "      <td>3.0</td>\n",
       "      <td>2.0</td>\n",
       "      <td>1.0</td>\n",
       "      <td>1.0</td>\n",
       "      <td>...</td>\n",
       "      <td>NaN</td>\n",
       "      <td>NaN</td>\n",
       "      <td>2.0</td>\n",
       "      <td>1.0</td>\n",
       "      <td>1.0</td>\n",
       "      <td>1.0</td>\n",
       "      <td>1.0</td>\n",
       "      <td>Tento kurz naprosto ničí představy prvních roč...</td>\n",
       "      <td>S veškerou úctou k panu Kameníčkovi - změna vy...</td>\n",
       "      <td>ies</td>\n",
       "    </tr>\n",
       "    <tr>\n",
       "      <th>13</th>\n",
       "      <td>14</td>\n",
       "      <td>JSB536</td>\n",
       "      <td>Základy logiky a matematiky</td>\n",
       "      <td>Hendl,J.</td>\n",
       "      <td>Hanzlík,P.</td>\n",
       "      <td>3.0</td>\n",
       "      <td>3.0</td>\n",
       "      <td>2.0</td>\n",
       "      <td>2.0</td>\n",
       "      <td>1.0</td>\n",
       "      <td>...</td>\n",
       "      <td>5.0</td>\n",
       "      <td>4.0</td>\n",
       "      <td>2.0</td>\n",
       "      <td>4.0</td>\n",
       "      <td>2.0</td>\n",
       "      <td>1.0</td>\n",
       "      <td>3.0</td>\n",
       "      <td>NaN</td>\n",
       "      <td>NaN</td>\n",
       "      <td>ks</td>\n",
       "    </tr>\n",
       "    <tr>\n",
       "      <th>14</th>\n",
       "      <td>15</td>\n",
       "      <td>JPM628</td>\n",
       "      <td>Researching International Politics: Quantitati...</td>\n",
       "      <td>Parízek,M.</td>\n",
       "      <td>NaN</td>\n",
       "      <td>5.0</td>\n",
       "      <td>3.0</td>\n",
       "      <td>5.0</td>\n",
       "      <td>5.0</td>\n",
       "      <td>4.0</td>\n",
       "      <td>...</td>\n",
       "      <td>NaN</td>\n",
       "      <td>NaN</td>\n",
       "      <td>1.0</td>\n",
       "      <td>4.0</td>\n",
       "      <td>5.0</td>\n",
       "      <td>3.0</td>\n",
       "      <td>4.0</td>\n",
       "      <td>NaN</td>\n",
       "      <td>NaN</td>\n",
       "      <td>kmv</td>\n",
       "    </tr>\n",
       "    <tr>\n",
       "      <th>15</th>\n",
       "      <td>16</td>\n",
       "      <td>JPM694</td>\n",
       "      <td>Strategic Studies</td>\n",
       "      <td>Hynek,N.,Ludvík,J.,Smetana,M.</td>\n",
       "      <td>NaN</td>\n",
       "      <td>3.0</td>\n",
       "      <td>4.0</td>\n",
       "      <td>4.0</td>\n",
       "      <td>5.0</td>\n",
       "      <td>2.0</td>\n",
       "      <td>...</td>\n",
       "      <td>NaN</td>\n",
       "      <td>NaN</td>\n",
       "      <td>1.0</td>\n",
       "      <td>4.0</td>\n",
       "      <td>3.0</td>\n",
       "      <td>4.0</td>\n",
       "      <td>3.0</td>\n",
       "      <td>NaN</td>\n",
       "      <td>NaN</td>\n",
       "      <td>kbs</td>\n",
       "    </tr>\n",
       "    <tr>\n",
       "      <th>16</th>\n",
       "      <td>17</td>\n",
       "      <td>JSB530</td>\n",
       "      <td>Úvod do sociologického myšlení</td>\n",
       "      <td>Bureš,J.,Numerato,D.</td>\n",
       "      <td>Bureš,J.</td>\n",
       "      <td>3.0</td>\n",
       "      <td>1.0</td>\n",
       "      <td>1.0</td>\n",
       "      <td>5.0</td>\n",
       "      <td>1.0</td>\n",
       "      <td>...</td>\n",
       "      <td>5.0</td>\n",
       "      <td>4.0</td>\n",
       "      <td>4.0</td>\n",
       "      <td>2.0</td>\n",
       "      <td>3.0</td>\n",
       "      <td>2.0</td>\n",
       "      <td>3.0</td>\n",
       "      <td>NaN</td>\n",
       "      <td>NaN</td>\n",
       "      <td>ks</td>\n",
       "    </tr>\n",
       "    <tr>\n",
       "      <th>17</th>\n",
       "      <td>18</td>\n",
       "      <td>JSB407</td>\n",
       "      <td>Globální problémy životního prostředí a udržit...</td>\n",
       "      <td>Drhová,Z.</td>\n",
       "      <td>NaN</td>\n",
       "      <td>3.0</td>\n",
       "      <td>2.0</td>\n",
       "      <td>3.0</td>\n",
       "      <td>4.0</td>\n",
       "      <td>4.0</td>\n",
       "      <td>...</td>\n",
       "      <td>NaN</td>\n",
       "      <td>NaN</td>\n",
       "      <td>1.0</td>\n",
       "      <td>4.0</td>\n",
       "      <td>2.0</td>\n",
       "      <td>4.0</td>\n",
       "      <td>4.0</td>\n",
       "      <td>zachovala bych skupinové práce a výuku každý t...</td>\n",
       "      <td>Lépe definovat ze strany vyučujícího požadavky...</td>\n",
       "      <td>kvsp</td>\n",
       "    </tr>\n",
       "    <tr>\n",
       "      <th>18</th>\n",
       "      <td>19</td>\n",
       "      <td>JPM314</td>\n",
       "      <td>Theories of International Relations</td>\n",
       "      <td>Ditrych,O.,Plechanovová,B.</td>\n",
       "      <td>NaN</td>\n",
       "      <td>2.0</td>\n",
       "      <td>3.0</td>\n",
       "      <td>3.0</td>\n",
       "      <td>3.0</td>\n",
       "      <td>2.0</td>\n",
       "      <td>...</td>\n",
       "      <td>NaN</td>\n",
       "      <td>NaN</td>\n",
       "      <td>1.0</td>\n",
       "      <td>2.0</td>\n",
       "      <td>3.0</td>\n",
       "      <td>3.0</td>\n",
       "      <td>3.0</td>\n",
       "      <td>NaN</td>\n",
       "      <td>NaN</td>\n",
       "      <td>kmv</td>\n",
       "    </tr>\n",
       "    <tr>\n",
       "      <th>19</th>\n",
       "      <td>20</td>\n",
       "      <td>JSB515</td>\n",
       "      <td>Vysokoškolská vzdělávací politika</td>\n",
       "      <td>Vlk,A.</td>\n",
       "      <td>NaN</td>\n",
       "      <td>5.0</td>\n",
       "      <td>4.0</td>\n",
       "      <td>4.0</td>\n",
       "      <td>5.0</td>\n",
       "      <td>5.0</td>\n",
       "      <td>...</td>\n",
       "      <td>NaN</td>\n",
       "      <td>NaN</td>\n",
       "      <td>1.0</td>\n",
       "      <td>5.0</td>\n",
       "      <td>5.0</td>\n",
       "      <td>5.0</td>\n",
       "      <td>5.0</td>\n",
       "      <td>Přístup vyučujícího, způsob výuky, oborovost a...</td>\n",
       "      <td>NaN</td>\n",
       "      <td>kvsp</td>\n",
       "    </tr>\n",
       "  </tbody>\n",
       "</table>\n",
       "<p>20 rows × 21 columns</p>\n",
       "</div>"
      ],
      "text/plain": [
       "    cislo_dot kod_predm                                        nazev_predm  \\\n",
       "0           1    JEB003                                         Ekonomie I   \n",
       "1           2    JLB003                           Angličtina pro ekonomy I   \n",
       "2           3   NMMA701                                       Matematika 1   \n",
       "3           4    JEB023                               Úvod do studia práva   \n",
       "4           5    JEB055                             Seminář k aktualitám I   \n",
       "5           6    JPM314                Theories of International Relations   \n",
       "6           7    JEB998                                   Úvod do ekonomie   \n",
       "7           8    JEB058                      Seminář matematické analýzy I   \n",
       "8           9    JPM561                          Regional Security Studies   \n",
       "9          10    JEB998                                   Úvod do ekonomie   \n",
       "10         11    JLB001                         Angličtina pro sociology I   \n",
       "11         12    JPM698                               Middle East Security   \n",
       "12         13    JEB998                                   Úvod do ekonomie   \n",
       "13         14    JSB536                        Základy logiky a matematiky   \n",
       "14         15    JPM628  Researching International Politics: Quantitati...   \n",
       "15         16    JPM694                                  Strategic Studies   \n",
       "16         17    JSB530                     Úvod do sociologického myšlení   \n",
       "17         18    JSB407  Globální problémy životního prostředí a udržit...   \n",
       "18         19    JPM314                Theories of International Relations   \n",
       "19         20    JSB515                  Vysokoškolská vzdělávací politika   \n",
       "\n",
       "                      prednasejici                         cvicici   q1   q2  \\\n",
       "0   Fanta,N.,Kracík,J.,Švarcová,N.  Fanta,N.,Kracík,J.,Švarcová,N.  3.0  5.0   \n",
       "1                              NaN                     Poslušná,L.  5.0  3.0   \n",
       "2                        Spurný,J.                       Rondoš,J.  3.0  5.0   \n",
       "3               Pražák,P.,Wintr,J.                             NaN  3.0  4.0   \n",
       "4                              NaN                     Vyhnánek,T.  2.0  3.0   \n",
       "5       Ditrych,O.,Plechanovová,B.                             NaN  2.0  3.0   \n",
       "6                     Kameníček,J.                             NaN  4.0  3.0   \n",
       "7                              NaN                      Stráský,J.  4.0  4.0   \n",
       "8             Karásek,T.,Klosek,K.            Karásek,T.,Klosek,K.  5.0  3.0   \n",
       "9                     Kameníček,J.                             NaN  3.0  4.0   \n",
       "10                             NaN                   Štěpánková,D.  3.0  1.0   \n",
       "11                       Daniel,J.                             NaN  5.0  3.0   \n",
       "12                    Kameníček,J.                             NaN  1.0  3.0   \n",
       "13                        Hendl,J.                      Hanzlík,P.  3.0  3.0   \n",
       "14                      Parízek,M.                             NaN  5.0  3.0   \n",
       "15   Hynek,N.,Ludvík,J.,Smetana,M.                             NaN  3.0  4.0   \n",
       "16            Bureš,J.,Numerato,D.                        Bureš,J.  3.0  1.0   \n",
       "17                       Drhová,Z.                             NaN  3.0  2.0   \n",
       "18      Ditrych,O.,Plechanovová,B.                             NaN  2.0  3.0   \n",
       "19                          Vlk,A.                             NaN  5.0  4.0   \n",
       "\n",
       "     q3   q4   q5  ...   q7   q8   q9  q10  q11  q12  q13  \\\n",
       "0   4.0  5.0  4.0  ...  4.0  3.0  1.0  4.0  1.0  NaN  2.0   \n",
       "1   NaN  NaN  NaN  ...  5.0  5.0  1.0  5.0  5.0  5.0  5.0   \n",
       "2   3.0  2.0  1.0  ...  4.0  5.0  1.0  3.0  2.0  2.0  1.0   \n",
       "3   3.0  3.0  1.0  ...  NaN  NaN  1.0  3.0  2.0  3.0  2.0   \n",
       "4   NaN  NaN  NaN  ...  3.0  1.0  1.0  4.0  2.0  2.0  1.0   \n",
       "5   2.0  4.0  1.0  ...  NaN  NaN  2.0  3.0  1.0  3.0  1.0   \n",
       "6   2.0  3.0  2.0  ...  NaN  NaN  1.0  3.0  1.0  2.0  3.0   \n",
       "7   NaN  NaN  NaN  ...  5.0  5.0  1.0  1.0  2.0  3.0  5.0   \n",
       "8   5.0  5.0  4.0  ...  5.0  4.0  1.0  5.0  4.0  5.0  5.0   \n",
       "9   2.0  2.0  2.0  ...  NaN  NaN  1.0  3.0  3.0  3.0  1.0   \n",
       "10  NaN  NaN  NaN  ...  4.0  2.0  2.0  1.0  2.0  1.0  2.0   \n",
       "11  4.0  5.0  5.0  ...  NaN  NaN  2.0  5.0  4.0  4.0  4.0   \n",
       "12  2.0  1.0  1.0  ...  NaN  NaN  2.0  1.0  1.0  1.0  1.0   \n",
       "13  2.0  2.0  1.0  ...  5.0  4.0  2.0  4.0  2.0  1.0  3.0   \n",
       "14  5.0  5.0  4.0  ...  NaN  NaN  1.0  4.0  5.0  3.0  4.0   \n",
       "15  4.0  5.0  2.0  ...  NaN  NaN  1.0  4.0  3.0  4.0  3.0   \n",
       "16  1.0  5.0  1.0  ...  5.0  4.0  4.0  2.0  3.0  2.0  3.0   \n",
       "17  3.0  4.0  4.0  ...  NaN  NaN  1.0  4.0  2.0  4.0  4.0   \n",
       "18  3.0  3.0  2.0  ...  NaN  NaN  1.0  2.0  3.0  3.0  3.0   \n",
       "19  4.0  5.0  5.0  ...  NaN  NaN  1.0  5.0  5.0  5.0  5.0   \n",
       "\n",
       "                                                   t1  \\\n",
       "0                                                 NaN   \n",
       "1                                                 NaN   \n",
       "2                                                 NaN   \n",
       "3                                                 NaN   \n",
       "4                                                 NaN   \n",
       "5                                                 NaN   \n",
       "6                                                 NaN   \n",
       "7                                                 NaN   \n",
       "8                                                 NaN   \n",
       "9                                                 NaN   \n",
       "10                                                NaN   \n",
       "11                                                NaN   \n",
       "12  Tento kurz naprosto ničí představy prvních roč...   \n",
       "13                                                NaN   \n",
       "14                                                NaN   \n",
       "15                                                NaN   \n",
       "16                                                NaN   \n",
       "17  zachovala bych skupinové práce a výuku každý t...   \n",
       "18                                                NaN   \n",
       "19  Přístup vyučujícího, způsob výuky, oborovost a...   \n",
       "\n",
       "                                                   t2 katedra_code  \n",
       "0                                                 NaN          ies  \n",
       "1                                                 NaN          cjp  \n",
       "2                                                 NaN          ies  \n",
       "3                                                 NaN          ies  \n",
       "4                                                 NaN          ies  \n",
       "5                                                 NaN          kmv  \n",
       "6                                                 NaN          ies  \n",
       "7                                                 NaN          ies  \n",
       "8                                                 NaN          kbs  \n",
       "9                                                 NaN          ies  \n",
       "10                                                NaN          cjp  \n",
       "11                                                NaN          kbs  \n",
       "12  S veškerou úctou k panu Kameníčkovi - změna vy...          ies  \n",
       "13                                                NaN           ks  \n",
       "14                                                NaN          kmv  \n",
       "15                                                NaN          kbs  \n",
       "16                                                NaN           ks  \n",
       "17  Lépe definovat ze strany vyučujícího požadavky...         kvsp  \n",
       "18                                                NaN          kmv  \n",
       "19                                                NaN         kvsp  \n",
       "\n",
       "[20 rows x 21 columns]"
      ]
     },
     "execution_count": 89,
     "metadata": {},
     "output_type": "execute_result"
    }
   ],
   "source": [
    "df.head(20)"
   ]
  },
  {
   "cell_type": "code",
   "execution_count": 90,
   "metadata": {},
   "outputs": [
    {
     "data": {
      "text/plain": [
       "Index(['cislo_dot', 'kod_predm', 'nazev_predm', 'prednasejici', 'cvicici',\n",
       "       'q1', 'q2', 'q3', 'q4', 'q5', 'q6', 'q7', 'q8', 'q9', 'q10', 'q11',\n",
       "       'q12', 'q13', 't1', 't2', 'katedra_code'],\n",
       "      dtype='object')"
      ]
     },
     "execution_count": 90,
     "metadata": {},
     "output_type": "execute_result"
    }
   ],
   "source": [
    "df.columns"
   ]
  },
  {
   "cell_type": "code",
   "execution_count": 91,
   "metadata": {},
   "outputs": [
    {
     "data": {
      "text/html": [
       "<div>\n",
       "<style scoped>\n",
       "    .dataframe tbody tr th:only-of-type {\n",
       "        vertical-align: middle;\n",
       "    }\n",
       "\n",
       "    .dataframe tbody tr th {\n",
       "        vertical-align: top;\n",
       "    }\n",
       "\n",
       "    .dataframe thead th {\n",
       "        text-align: right;\n",
       "    }\n",
       "</style>\n",
       "<table border=\"1\" class=\"dataframe\">\n",
       "  <thead>\n",
       "    <tr style=\"text-align: right;\">\n",
       "      <th></th>\n",
       "      <th>cislo_dot</th>\n",
       "      <th>kod_predm</th>\n",
       "      <th>nazev_predm</th>\n",
       "      <th>prednasejici</th>\n",
       "      <th>cvicici</th>\n",
       "      <th>q1</th>\n",
       "      <th>q2</th>\n",
       "      <th>q3</th>\n",
       "      <th>q4</th>\n",
       "      <th>q5</th>\n",
       "      <th>...</th>\n",
       "      <th>q7</th>\n",
       "      <th>q8</th>\n",
       "      <th>q9</th>\n",
       "      <th>q10</th>\n",
       "      <th>q11</th>\n",
       "      <th>q12</th>\n",
       "      <th>q13</th>\n",
       "      <th>t1</th>\n",
       "      <th>t2</th>\n",
       "      <th>katedra_code</th>\n",
       "    </tr>\n",
       "  </thead>\n",
       "  <tbody>\n",
       "    <tr>\n",
       "      <th>0</th>\n",
       "      <td>1</td>\n",
       "      <td>JEB003</td>\n",
       "      <td>Ekonomie I</td>\n",
       "      <td>Fanta,N.,Kracík,J.,Švarcová,N.</td>\n",
       "      <td>Fanta,N.,Kracík,J.,Švarcová,N.</td>\n",
       "      <td>3.0</td>\n",
       "      <td>5.0</td>\n",
       "      <td>4.0</td>\n",
       "      <td>5.0</td>\n",
       "      <td>4.0</td>\n",
       "      <td>...</td>\n",
       "      <td>4.0</td>\n",
       "      <td>3.0</td>\n",
       "      <td>1.0</td>\n",
       "      <td>4.0</td>\n",
       "      <td>1.0</td>\n",
       "      <td>NaN</td>\n",
       "      <td>2.0</td>\n",
       "      <td>NaN</td>\n",
       "      <td>NaN</td>\n",
       "      <td>ies</td>\n",
       "    </tr>\n",
       "    <tr>\n",
       "      <th>1</th>\n",
       "      <td>2</td>\n",
       "      <td>JLB003</td>\n",
       "      <td>Angličtina pro ekonomy I</td>\n",
       "      <td>NaN</td>\n",
       "      <td>Poslušná,L.</td>\n",
       "      <td>5.0</td>\n",
       "      <td>3.0</td>\n",
       "      <td>NaN</td>\n",
       "      <td>NaN</td>\n",
       "      <td>NaN</td>\n",
       "      <td>...</td>\n",
       "      <td>5.0</td>\n",
       "      <td>5.0</td>\n",
       "      <td>1.0</td>\n",
       "      <td>5.0</td>\n",
       "      <td>5.0</td>\n",
       "      <td>5.0</td>\n",
       "      <td>5.0</td>\n",
       "      <td>NaN</td>\n",
       "      <td>NaN</td>\n",
       "      <td>cjp</td>\n",
       "    </tr>\n",
       "    <tr>\n",
       "      <th>2</th>\n",
       "      <td>3</td>\n",
       "      <td>NMMA701</td>\n",
       "      <td>Matematika 1</td>\n",
       "      <td>Spurný,J.</td>\n",
       "      <td>Rondoš,J.</td>\n",
       "      <td>3.0</td>\n",
       "      <td>5.0</td>\n",
       "      <td>3.0</td>\n",
       "      <td>2.0</td>\n",
       "      <td>1.0</td>\n",
       "      <td>...</td>\n",
       "      <td>4.0</td>\n",
       "      <td>5.0</td>\n",
       "      <td>1.0</td>\n",
       "      <td>3.0</td>\n",
       "      <td>2.0</td>\n",
       "      <td>2.0</td>\n",
       "      <td>1.0</td>\n",
       "      <td>NaN</td>\n",
       "      <td>NaN</td>\n",
       "      <td>ies</td>\n",
       "    </tr>\n",
       "    <tr>\n",
       "      <th>3</th>\n",
       "      <td>4</td>\n",
       "      <td>JEB023</td>\n",
       "      <td>Úvod do studia práva</td>\n",
       "      <td>Pražák,P.,Wintr,J.</td>\n",
       "      <td>NaN</td>\n",
       "      <td>3.0</td>\n",
       "      <td>4.0</td>\n",
       "      <td>3.0</td>\n",
       "      <td>3.0</td>\n",
       "      <td>1.0</td>\n",
       "      <td>...</td>\n",
       "      <td>NaN</td>\n",
       "      <td>NaN</td>\n",
       "      <td>1.0</td>\n",
       "      <td>3.0</td>\n",
       "      <td>2.0</td>\n",
       "      <td>3.0</td>\n",
       "      <td>2.0</td>\n",
       "      <td>NaN</td>\n",
       "      <td>NaN</td>\n",
       "      <td>ies</td>\n",
       "    </tr>\n",
       "    <tr>\n",
       "      <th>4</th>\n",
       "      <td>5</td>\n",
       "      <td>JEB055</td>\n",
       "      <td>Seminář k aktualitám I</td>\n",
       "      <td>NaN</td>\n",
       "      <td>Vyhnánek,T.</td>\n",
       "      <td>2.0</td>\n",
       "      <td>3.0</td>\n",
       "      <td>NaN</td>\n",
       "      <td>NaN</td>\n",
       "      <td>NaN</td>\n",
       "      <td>...</td>\n",
       "      <td>3.0</td>\n",
       "      <td>1.0</td>\n",
       "      <td>1.0</td>\n",
       "      <td>4.0</td>\n",
       "      <td>2.0</td>\n",
       "      <td>2.0</td>\n",
       "      <td>1.0</td>\n",
       "      <td>NaN</td>\n",
       "      <td>NaN</td>\n",
       "      <td>ies</td>\n",
       "    </tr>\n",
       "    <tr>\n",
       "      <th>...</th>\n",
       "      <td>...</td>\n",
       "      <td>...</td>\n",
       "      <td>...</td>\n",
       "      <td>...</td>\n",
       "      <td>...</td>\n",
       "      <td>...</td>\n",
       "      <td>...</td>\n",
       "      <td>...</td>\n",
       "      <td>...</td>\n",
       "      <td>...</td>\n",
       "      <td>...</td>\n",
       "      <td>...</td>\n",
       "      <td>...</td>\n",
       "      <td>...</td>\n",
       "      <td>...</td>\n",
       "      <td>...</td>\n",
       "      <td>...</td>\n",
       "      <td>...</td>\n",
       "      <td>...</td>\n",
       "      <td>...</td>\n",
       "      <td>...</td>\n",
       "    </tr>\n",
       "    <tr>\n",
       "      <th>6990</th>\n",
       "      <td>6993</td>\n",
       "      <td>JJM260</td>\n",
       "      <td>Novinářská etika v praxi</td>\n",
       "      <td>Moravec,V.</td>\n",
       "      <td>NaN</td>\n",
       "      <td>5.0</td>\n",
       "      <td>5.0</td>\n",
       "      <td>5.0</td>\n",
       "      <td>5.0</td>\n",
       "      <td>5.0</td>\n",
       "      <td>...</td>\n",
       "      <td>NaN</td>\n",
       "      <td>NaN</td>\n",
       "      <td>1.0</td>\n",
       "      <td>5.0</td>\n",
       "      <td>4.0</td>\n",
       "      <td>5.0</td>\n",
       "      <td>5.0</td>\n",
       "      <td>Tlak ze strany vyucujicicho - eseje, pestovani...</td>\n",
       "      <td>Vetsi ucebnu?</td>\n",
       "      <td>kz</td>\n",
       "    </tr>\n",
       "    <tr>\n",
       "      <th>6991</th>\n",
       "      <td>6994</td>\n",
       "      <td>JJM264</td>\n",
       "      <td>Diplomový seminář II.</td>\n",
       "      <td>NaN</td>\n",
       "      <td>NaN</td>\n",
       "      <td>2.0</td>\n",
       "      <td>3.0</td>\n",
       "      <td>3.0</td>\n",
       "      <td>3.0</td>\n",
       "      <td>3.0</td>\n",
       "      <td>...</td>\n",
       "      <td>NaN</td>\n",
       "      <td>NaN</td>\n",
       "      <td>1.0</td>\n",
       "      <td>1.0</td>\n",
       "      <td>1.0</td>\n",
       "      <td>2.0</td>\n",
       "      <td>3.0</td>\n",
       "      <td>NaN</td>\n",
       "      <td>Mel by byt oba semestry, ne pouze v zimnim, st...</td>\n",
       "      <td>kz</td>\n",
       "    </tr>\n",
       "    <tr>\n",
       "      <th>6992</th>\n",
       "      <td>6995</td>\n",
       "      <td>JJM360</td>\n",
       "      <td>Ekonomika v médiích</td>\n",
       "      <td>Klimeš,D.</td>\n",
       "      <td>NaN</td>\n",
       "      <td>5.0</td>\n",
       "      <td>4.0</td>\n",
       "      <td>5.0</td>\n",
       "      <td>5.0</td>\n",
       "      <td>4.0</td>\n",
       "      <td>...</td>\n",
       "      <td>NaN</td>\n",
       "      <td>NaN</td>\n",
       "      <td>2.0</td>\n",
       "      <td>5.0</td>\n",
       "      <td>3.0</td>\n",
       "      <td>5.0</td>\n",
       "      <td>5.0</td>\n",
       "      <td>Hosty a jejich prednasky.</td>\n",
       "      <td>NaN</td>\n",
       "      <td>kz</td>\n",
       "    </tr>\n",
       "    <tr>\n",
       "      <th>6993</th>\n",
       "      <td>6996</td>\n",
       "      <td>JJM354</td>\n",
       "      <td>Dějiny populární hudby</td>\n",
       "      <td>Halada,A.</td>\n",
       "      <td>NaN</td>\n",
       "      <td>3.0</td>\n",
       "      <td>3.0</td>\n",
       "      <td>5.0</td>\n",
       "      <td>5.0</td>\n",
       "      <td>1.0</td>\n",
       "      <td>...</td>\n",
       "      <td>NaN</td>\n",
       "      <td>NaN</td>\n",
       "      <td>5.0</td>\n",
       "      <td>1.0</td>\n",
       "      <td>3.0</td>\n",
       "      <td>3.0</td>\n",
       "      <td>5.0</td>\n",
       "      <td>Kurz mel velky potencial, zabavne a prinosne p...</td>\n",
       "      <td>Aby prednasky probihaly.</td>\n",
       "      <td>kz</td>\n",
       "    </tr>\n",
       "    <tr>\n",
       "      <th>6994</th>\n",
       "      <td>6997</td>\n",
       "      <td>JJM340</td>\n",
       "      <td>Tvůrčí dílny – tvůrčí psaní I</td>\n",
       "      <td>Novotný,D.</td>\n",
       "      <td>Novotný,D.</td>\n",
       "      <td>5.0</td>\n",
       "      <td>5.0</td>\n",
       "      <td>5.0</td>\n",
       "      <td>5.0</td>\n",
       "      <td>5.0</td>\n",
       "      <td>...</td>\n",
       "      <td>4.0</td>\n",
       "      <td>5.0</td>\n",
       "      <td>1.0</td>\n",
       "      <td>5.0</td>\n",
       "      <td>5.0</td>\n",
       "      <td>4.0</td>\n",
       "      <td>5.0</td>\n",
       "      <td>Ja kurz absolvovala s panem docentem Malym - j...</td>\n",
       "      <td>NaN</td>\n",
       "      <td>kz</td>\n",
       "    </tr>\n",
       "  </tbody>\n",
       "</table>\n",
       "<p>6995 rows × 21 columns</p>\n",
       "</div>"
      ],
      "text/plain": [
       "      cislo_dot kod_predm                    nazev_predm  \\\n",
       "0             1    JEB003                     Ekonomie I   \n",
       "1             2    JLB003       Angličtina pro ekonomy I   \n",
       "2             3   NMMA701                   Matematika 1   \n",
       "3             4    JEB023           Úvod do studia práva   \n",
       "4             5    JEB055         Seminář k aktualitám I   \n",
       "...         ...       ...                            ...   \n",
       "6990       6993    JJM260       Novinářská etika v praxi   \n",
       "6991       6994    JJM264          Diplomový seminář II.   \n",
       "6992       6995    JJM360            Ekonomika v médiích   \n",
       "6993       6996    JJM354         Dějiny populární hudby   \n",
       "6994       6997    JJM340  Tvůrčí dílny – tvůrčí psaní I   \n",
       "\n",
       "                        prednasejici                         cvicici   q1  \\\n",
       "0     Fanta,N.,Kracík,J.,Švarcová,N.  Fanta,N.,Kracík,J.,Švarcová,N.  3.0   \n",
       "1                                NaN                     Poslušná,L.  5.0   \n",
       "2                          Spurný,J.                       Rondoš,J.  3.0   \n",
       "3                 Pražák,P.,Wintr,J.                             NaN  3.0   \n",
       "4                                NaN                     Vyhnánek,T.  2.0   \n",
       "...                              ...                             ...  ...   \n",
       "6990                      Moravec,V.                             NaN  5.0   \n",
       "6991                             NaN                             NaN  2.0   \n",
       "6992                       Klimeš,D.                             NaN  5.0   \n",
       "6993                       Halada,A.                             NaN  3.0   \n",
       "6994                      Novotný,D.                      Novotný,D.  5.0   \n",
       "\n",
       "       q2   q3   q4   q5  ...   q7   q8   q9  q10  q11  q12  q13  \\\n",
       "0     5.0  4.0  5.0  4.0  ...  4.0  3.0  1.0  4.0  1.0  NaN  2.0   \n",
       "1     3.0  NaN  NaN  NaN  ...  5.0  5.0  1.0  5.0  5.0  5.0  5.0   \n",
       "2     5.0  3.0  2.0  1.0  ...  4.0  5.0  1.0  3.0  2.0  2.0  1.0   \n",
       "3     4.0  3.0  3.0  1.0  ...  NaN  NaN  1.0  3.0  2.0  3.0  2.0   \n",
       "4     3.0  NaN  NaN  NaN  ...  3.0  1.0  1.0  4.0  2.0  2.0  1.0   \n",
       "...   ...  ...  ...  ...  ...  ...  ...  ...  ...  ...  ...  ...   \n",
       "6990  5.0  5.0  5.0  5.0  ...  NaN  NaN  1.0  5.0  4.0  5.0  5.0   \n",
       "6991  3.0  3.0  3.0  3.0  ...  NaN  NaN  1.0  1.0  1.0  2.0  3.0   \n",
       "6992  4.0  5.0  5.0  4.0  ...  NaN  NaN  2.0  5.0  3.0  5.0  5.0   \n",
       "6993  3.0  5.0  5.0  1.0  ...  NaN  NaN  5.0  1.0  3.0  3.0  5.0   \n",
       "6994  5.0  5.0  5.0  5.0  ...  4.0  5.0  1.0  5.0  5.0  4.0  5.0   \n",
       "\n",
       "                                                     t1  \\\n",
       "0                                                   NaN   \n",
       "1                                                   NaN   \n",
       "2                                                   NaN   \n",
       "3                                                   NaN   \n",
       "4                                                   NaN   \n",
       "...                                                 ...   \n",
       "6990  Tlak ze strany vyucujicicho - eseje, pestovani...   \n",
       "6991                                                NaN   \n",
       "6992                          Hosty a jejich prednasky.   \n",
       "6993  Kurz mel velky potencial, zabavne a prinosne p...   \n",
       "6994  Ja kurz absolvovala s panem docentem Malym - j...   \n",
       "\n",
       "                                                     t2 katedra_code  \n",
       "0                                                   NaN          ies  \n",
       "1                                                   NaN          cjp  \n",
       "2                                                   NaN          ies  \n",
       "3                                                   NaN          ies  \n",
       "4                                                   NaN          ies  \n",
       "...                                                 ...          ...  \n",
       "6990                                      Vetsi ucebnu?           kz  \n",
       "6991  Mel by byt oba semestry, ne pouze v zimnim, st...           kz  \n",
       "6992                                                NaN           kz  \n",
       "6993                           Aby prednasky probihaly.           kz  \n",
       "6994                                                NaN           kz  \n",
       "\n",
       "[6995 rows x 21 columns]"
      ]
     },
     "execution_count": 91,
     "metadata": {},
     "output_type": "execute_result"
    }
   ],
   "source": [
    "df"
   ]
  },
  {
   "cell_type": "code",
   "execution_count": 92,
   "metadata": {},
   "outputs": [
    {
     "name": "stdout",
     "output_type": "stream",
     "text": [
      "Original columns:  Index(['cislo_dot', 'kod_predm', 'nazev_predm', 'prednasejici', 'cvicici',\n",
      "       'q1', 'q2', 'q3', 'q4', 'q5', 'q6', 'q7', 'q8', 'q9', 'q10', 'q11',\n",
      "       'q12', 'q13', 't1', 't2', 'katedra_code'],\n",
      "      dtype='object')\n"
     ]
    }
   ],
   "source": [
    "print('Original columns: ', df.columns)\n",
    "# raw data have column names in czech, let's rename them\n",
    "# if you do not want to reassign, you can provide arg. \"inplace = True\"\n",
    "df = df.rename(columns = {'cislo_dot' : 'number',\n",
    "                    'kod_predm' : 'course_code',\n",
    "                    'nazev_predm' : 'course_title',\n",
    "                    'prednasejici' : 'teachers',\n",
    "                    'cvicici' : 'seminar_leaders',\n",
    "                    't1': 'c_value',\n",
    "                    't2': 'c_improve', \n",
    "                    'katedra_code' : 'department_code'})"
   ]
  },
  {
   "cell_type": "code",
   "execution_count": 93,
   "metadata": {},
   "outputs": [
    {
     "data": {
      "text/plain": [
       "RangeIndex(start=0, stop=6995, step=1)"
      ]
     },
     "execution_count": 93,
     "metadata": {},
     "output_type": "execute_result"
    }
   ],
   "source": [
    "# iterative\n",
    "df.index"
   ]
  },
  {
   "cell_type": "code",
   "execution_count": 94,
   "metadata": {},
   "outputs": [],
   "source": [
    "# set column named \"course_code\" to be an index (or you can use \"inplace\" option again)\n",
    "df.set_index('course_code', inplace=True)"
   ]
  },
  {
   "cell_type": "code",
   "execution_count": null,
   "metadata": {},
   "outputs": [],
   "source": [
    "# look at the data but refrain from drawing the conclusions\n",
    "df.head(5)"
   ]
  },
  {
   "cell_type": "code",
   "execution_count": null,
   "metadata": {},
   "outputs": [],
   "source": [
    "# make a copy of original data, so if you mess up, can go back to this\n",
    "# not that smart when you are working with the large data\n",
    "df_copy = df.copy(deep = True)"
   ]
  },
  {
   "cell_type": "markdown",
   "metadata": {},
   "source": [
    "* `pd.DataFrame.copy()`:\n",
    "    * deep: modifications to the data or indices of the copy will not be reflected in the original object\n",
    "    * shallow: any changes to the data of the original will be reflected in the shallow copy (and vice versa)"
   ]
  },
  {
   "cell_type": "code",
   "execution_count": 95,
   "metadata": {},
   "outputs": [
    {
     "data": {
      "text/plain": [
       "(6995, 20)"
      ]
     },
     "execution_count": 95,
     "metadata": {},
     "output_type": "execute_result"
    }
   ],
   "source": [
    "# try to call it as a function\n",
    "# df.shape() # it si an attribute not a function\n",
    "df.shape"
   ]
  },
  {
   "cell_type": "code",
   "execution_count": 96,
   "metadata": {},
   "outputs": [
    {
     "data": {
      "text/html": [
       "<div>\n",
       "<style scoped>\n",
       "    .dataframe tbody tr th:only-of-type {\n",
       "        vertical-align: middle;\n",
       "    }\n",
       "\n",
       "    .dataframe tbody tr th {\n",
       "        vertical-align: top;\n",
       "    }\n",
       "\n",
       "    .dataframe thead th {\n",
       "        text-align: right;\n",
       "    }\n",
       "</style>\n",
       "<table border=\"1\" class=\"dataframe\">\n",
       "  <thead>\n",
       "    <tr style=\"text-align: right;\">\n",
       "      <th></th>\n",
       "      <th>number</th>\n",
       "      <th>q1</th>\n",
       "      <th>q2</th>\n",
       "      <th>q3</th>\n",
       "      <th>q4</th>\n",
       "      <th>q5</th>\n",
       "      <th>q6</th>\n",
       "      <th>q7</th>\n",
       "      <th>q8</th>\n",
       "      <th>q9</th>\n",
       "      <th>q10</th>\n",
       "      <th>q11</th>\n",
       "      <th>q12</th>\n",
       "      <th>q13</th>\n",
       "    </tr>\n",
       "  </thead>\n",
       "  <tbody>\n",
       "    <tr>\n",
       "      <th>count</th>\n",
       "      <td>6995.000000</td>\n",
       "      <td>6847.000000</td>\n",
       "      <td>6827.000000</td>\n",
       "      <td>5458.000000</td>\n",
       "      <td>5457.000000</td>\n",
       "      <td>5458.000000</td>\n",
       "      <td>2600.000000</td>\n",
       "      <td>2600.000000</td>\n",
       "      <td>2600.000000</td>\n",
       "      <td>6776.000000</td>\n",
       "      <td>6829.000000</td>\n",
       "      <td>6783.000000</td>\n",
       "      <td>6801.000000</td>\n",
       "      <td>6798.00000</td>\n",
       "    </tr>\n",
       "    <tr>\n",
       "      <th>mean</th>\n",
       "      <td>3499.380843</td>\n",
       "      <td>4.108661</td>\n",
       "      <td>3.284166</td>\n",
       "      <td>4.214731</td>\n",
       "      <td>4.359355</td>\n",
       "      <td>3.872664</td>\n",
       "      <td>4.288462</td>\n",
       "      <td>4.494231</td>\n",
       "      <td>4.151923</td>\n",
       "      <td>1.419126</td>\n",
       "      <td>4.020940</td>\n",
       "      <td>3.574672</td>\n",
       "      <td>3.896927</td>\n",
       "      <td>4.12739</td>\n",
       "    </tr>\n",
       "    <tr>\n",
       "      <th>std</th>\n",
       "      <td>2019.914876</td>\n",
       "      <td>1.019755</td>\n",
       "      <td>1.056333</td>\n",
       "      <td>1.032399</td>\n",
       "      <td>0.999295</td>\n",
       "      <td>1.267321</td>\n",
       "      <td>0.964880</td>\n",
       "      <td>0.887239</td>\n",
       "      <td>1.142584</td>\n",
       "      <td>0.775423</td>\n",
       "      <td>1.069084</td>\n",
       "      <td>1.274129</td>\n",
       "      <td>1.115977</td>\n",
       "      <td>1.12351</td>\n",
       "    </tr>\n",
       "    <tr>\n",
       "      <th>min</th>\n",
       "      <td>1.000000</td>\n",
       "      <td>1.000000</td>\n",
       "      <td>1.000000</td>\n",
       "      <td>1.000000</td>\n",
       "      <td>1.000000</td>\n",
       "      <td>1.000000</td>\n",
       "      <td>1.000000</td>\n",
       "      <td>1.000000</td>\n",
       "      <td>1.000000</td>\n",
       "      <td>1.000000</td>\n",
       "      <td>1.000000</td>\n",
       "      <td>1.000000</td>\n",
       "      <td>1.000000</td>\n",
       "      <td>1.00000</td>\n",
       "    </tr>\n",
       "    <tr>\n",
       "      <th>25%</th>\n",
       "      <td>1750.500000</td>\n",
       "      <td>4.000000</td>\n",
       "      <td>3.000000</td>\n",
       "      <td>4.000000</td>\n",
       "      <td>4.000000</td>\n",
       "      <td>3.000000</td>\n",
       "      <td>4.000000</td>\n",
       "      <td>4.000000</td>\n",
       "      <td>4.000000</td>\n",
       "      <td>1.000000</td>\n",
       "      <td>3.000000</td>\n",
       "      <td>3.000000</td>\n",
       "      <td>3.000000</td>\n",
       "      <td>4.00000</td>\n",
       "    </tr>\n",
       "    <tr>\n",
       "      <th>50%</th>\n",
       "      <td>3499.000000</td>\n",
       "      <td>4.000000</td>\n",
       "      <td>3.000000</td>\n",
       "      <td>5.000000</td>\n",
       "      <td>5.000000</td>\n",
       "      <td>4.000000</td>\n",
       "      <td>5.000000</td>\n",
       "      <td>5.000000</td>\n",
       "      <td>5.000000</td>\n",
       "      <td>1.000000</td>\n",
       "      <td>4.000000</td>\n",
       "      <td>4.000000</td>\n",
       "      <td>4.000000</td>\n",
       "      <td>5.00000</td>\n",
       "    </tr>\n",
       "    <tr>\n",
       "      <th>75%</th>\n",
       "      <td>5248.500000</td>\n",
       "      <td>5.000000</td>\n",
       "      <td>4.000000</td>\n",
       "      <td>5.000000</td>\n",
       "      <td>5.000000</td>\n",
       "      <td>5.000000</td>\n",
       "      <td>5.000000</td>\n",
       "      <td>5.000000</td>\n",
       "      <td>5.000000</td>\n",
       "      <td>2.000000</td>\n",
       "      <td>5.000000</td>\n",
       "      <td>5.000000</td>\n",
       "      <td>5.000000</td>\n",
       "      <td>5.00000</td>\n",
       "    </tr>\n",
       "    <tr>\n",
       "      <th>max</th>\n",
       "      <td>6997.000000</td>\n",
       "      <td>5.000000</td>\n",
       "      <td>5.000000</td>\n",
       "      <td>5.000000</td>\n",
       "      <td>5.000000</td>\n",
       "      <td>5.000000</td>\n",
       "      <td>5.000000</td>\n",
       "      <td>5.000000</td>\n",
       "      <td>5.000000</td>\n",
       "      <td>5.000000</td>\n",
       "      <td>5.000000</td>\n",
       "      <td>5.000000</td>\n",
       "      <td>5.000000</td>\n",
       "      <td>5.00000</td>\n",
       "    </tr>\n",
       "  </tbody>\n",
       "</table>\n",
       "</div>"
      ],
      "text/plain": [
       "            number           q1           q2           q3           q4  \\\n",
       "count  6995.000000  6847.000000  6827.000000  5458.000000  5457.000000   \n",
       "mean   3499.380843     4.108661     3.284166     4.214731     4.359355   \n",
       "std    2019.914876     1.019755     1.056333     1.032399     0.999295   \n",
       "min       1.000000     1.000000     1.000000     1.000000     1.000000   \n",
       "25%    1750.500000     4.000000     3.000000     4.000000     4.000000   \n",
       "50%    3499.000000     4.000000     3.000000     5.000000     5.000000   \n",
       "75%    5248.500000     5.000000     4.000000     5.000000     5.000000   \n",
       "max    6997.000000     5.000000     5.000000     5.000000     5.000000   \n",
       "\n",
       "                q5           q6           q7           q8           q9  \\\n",
       "count  5458.000000  2600.000000  2600.000000  2600.000000  6776.000000   \n",
       "mean      3.872664     4.288462     4.494231     4.151923     1.419126   \n",
       "std       1.267321     0.964880     0.887239     1.142584     0.775423   \n",
       "min       1.000000     1.000000     1.000000     1.000000     1.000000   \n",
       "25%       3.000000     4.000000     4.000000     4.000000     1.000000   \n",
       "50%       4.000000     5.000000     5.000000     5.000000     1.000000   \n",
       "75%       5.000000     5.000000     5.000000     5.000000     2.000000   \n",
       "max       5.000000     5.000000     5.000000     5.000000     5.000000   \n",
       "\n",
       "               q10          q11          q12         q13  \n",
       "count  6829.000000  6783.000000  6801.000000  6798.00000  \n",
       "mean      4.020940     3.574672     3.896927     4.12739  \n",
       "std       1.069084     1.274129     1.115977     1.12351  \n",
       "min       1.000000     1.000000     1.000000     1.00000  \n",
       "25%       3.000000     3.000000     3.000000     4.00000  \n",
       "50%       4.000000     4.000000     4.000000     5.00000  \n",
       "75%       5.000000     5.000000     5.000000     5.00000  \n",
       "max       5.000000     5.000000     5.000000     5.00000  "
      ]
     },
     "execution_count": 96,
     "metadata": {},
     "output_type": "execute_result"
    }
   ],
   "source": [
    "# classical data summarization\n",
    "df.describe()"
   ]
  },
  {
   "cell_type": "code",
   "execution_count": null,
   "metadata": {},
   "outputs": [],
   "source": [
    "# \n",
    "df.info()"
   ]
  },
  {
   "cell_type": "code",
   "execution_count": null,
   "metadata": {},
   "outputs": [],
   "source": [
    "# memory usage of each column in bytes (useful when working with the larger datasets)\n",
    "df.memory_usage()"
   ]
  },
  {
   "cell_type": "markdown",
   "metadata": {},
   "source": [
    "* you can treat a DataFrame semantically like a dict of like-indexed Series objects\n",
    "    * getting, setting, and deleting columns works with the same syntax as the analogous dict operations\n",
    "\n",
    "## Indexing/Selection\n",
    "\n",
    "| Operation                      | Syntax        |  Result   |\n",
    "|--------------------------------|---------------|-----------|\n",
    "| Select column                  | df[col]       |  Series   |\n",
    "| Select row by label            | df.loc[label] |  Series   |\n",
    "| Select row by integer location | df.iloc[loc]  |  Series   |\n",
    "| Slice rows                     | df[5:10]      | DataFrame |\n",
    "| Select rows by boolean vector  | df[bool_vec]  | DataFrame |"
   ]
  },
  {
   "cell_type": "code",
   "execution_count": 97,
   "metadata": {},
   "outputs": [
    {
     "data": {
      "text/plain": [
       "course_code\n",
       "JEB003                        Ekonomie I\n",
       "JLB003          Angličtina pro ekonomy I\n",
       "NMMA701                     Matematika 1\n",
       "JEB023              Úvod do studia práva\n",
       "JEB055            Seminář k aktualitám I\n",
       "                       ...              \n",
       "JJM260          Novinářská etika v praxi\n",
       "JJM264             Diplomový seminář II.\n",
       "JJM360               Ekonomika v médiích\n",
       "JJM354            Dějiny populární hudby\n",
       "JJM340     Tvůrčí dílny – tvůrčí psaní I\n",
       "Name: course_title, Length: 6995, dtype: object"
      ]
     },
     "execution_count": 97,
     "metadata": {},
     "output_type": "execute_result"
    }
   ],
   "source": [
    "# gives us series\n",
    "df['course_title']"
   ]
  },
  {
   "cell_type": "code",
   "execution_count": null,
   "metadata": {},
   "outputs": [],
   "source": [
    "#this demonstrates usefullness of proper column naming\n",
    "df.course_title"
   ]
  },
  {
   "cell_type": "code",
   "execution_count": null,
   "metadata": {},
   "outputs": [],
   "source": [
    "# multple columns -> gives us dataframe\n",
    "df[['course_title','q1']]"
   ]
  },
  {
   "cell_type": "code",
   "execution_count": null,
   "metadata": {},
   "outputs": [],
   "source": [
    "# just one column: just convenience (if column name has a space or dot, you are screwed)\n",
    "#naming conventions: no special character, underscore for spaces, no CZECH chars! informative and short\n",
    "df.course_title"
   ]
  },
  {
   "cell_type": "code",
   "execution_count": null,
   "metadata": {},
   "outputs": [],
   "source": [
    "# subset of columns you want \n",
    "df[['course_title','teachers']].head(10)"
   ]
  },
  {
   "cell_type": "code",
   "execution_count": null,
   "metadata": {},
   "outputs": [],
   "source": [
    "# list of all columns \n",
    "df.columns"
   ]
  },
  {
   "cell_type": "code",
   "execution_count": null,
   "metadata": {},
   "outputs": [],
   "source": [
    "# adding columns (first adding, so we have something to drop)\n",
    "df['tmp'] = '11/10'\n",
    "# you can also use assign function, if new column should be a function of original column \n",
    "df.head()"
   ]
  },
  {
   "cell_type": "code",
   "execution_count": 98,
   "metadata": {},
   "outputs": [
    {
     "data": {
      "text/html": [
       "<div>\n",
       "<style scoped>\n",
       "    .dataframe tbody tr th:only-of-type {\n",
       "        vertical-align: middle;\n",
       "    }\n",
       "\n",
       "    .dataframe tbody tr th {\n",
       "        vertical-align: top;\n",
       "    }\n",
       "\n",
       "    .dataframe thead th {\n",
       "        text-align: right;\n",
       "    }\n",
       "</style>\n",
       "<table border=\"1\" class=\"dataframe\">\n",
       "  <thead>\n",
       "    <tr style=\"text-align: right;\">\n",
       "      <th></th>\n",
       "      <th>number</th>\n",
       "      <th>course_title</th>\n",
       "      <th>teachers</th>\n",
       "      <th>seminar_leaders</th>\n",
       "      <th>q1</th>\n",
       "      <th>q2</th>\n",
       "      <th>q3</th>\n",
       "      <th>q4</th>\n",
       "      <th>q5</th>\n",
       "      <th>q6</th>\n",
       "      <th>...</th>\n",
       "      <th>q8</th>\n",
       "      <th>q9</th>\n",
       "      <th>q10</th>\n",
       "      <th>q11</th>\n",
       "      <th>q12</th>\n",
       "      <th>q13</th>\n",
       "      <th>c_value</th>\n",
       "      <th>c_improve</th>\n",
       "      <th>department_code</th>\n",
       "      <th>sumq1q2</th>\n",
       "    </tr>\n",
       "    <tr>\n",
       "      <th>course_code</th>\n",
       "      <th></th>\n",
       "      <th></th>\n",
       "      <th></th>\n",
       "      <th></th>\n",
       "      <th></th>\n",
       "      <th></th>\n",
       "      <th></th>\n",
       "      <th></th>\n",
       "      <th></th>\n",
       "      <th></th>\n",
       "      <th></th>\n",
       "      <th></th>\n",
       "      <th></th>\n",
       "      <th></th>\n",
       "      <th></th>\n",
       "      <th></th>\n",
       "      <th></th>\n",
       "      <th></th>\n",
       "      <th></th>\n",
       "      <th></th>\n",
       "      <th></th>\n",
       "    </tr>\n",
       "  </thead>\n",
       "  <tbody>\n",
       "    <tr>\n",
       "      <th>JEB003</th>\n",
       "      <td>1</td>\n",
       "      <td>Ekonomie I</td>\n",
       "      <td>Fanta,N.,Kracík,J.,Švarcová,N.</td>\n",
       "      <td>Fanta,N.,Kracík,J.,Švarcová,N.</td>\n",
       "      <td>3.0</td>\n",
       "      <td>5.0</td>\n",
       "      <td>4.0</td>\n",
       "      <td>5.0</td>\n",
       "      <td>4.0</td>\n",
       "      <td>2.0</td>\n",
       "      <td>...</td>\n",
       "      <td>3.0</td>\n",
       "      <td>1.0</td>\n",
       "      <td>4.0</td>\n",
       "      <td>1.0</td>\n",
       "      <td>NaN</td>\n",
       "      <td>2.0</td>\n",
       "      <td>NaN</td>\n",
       "      <td>NaN</td>\n",
       "      <td>ies</td>\n",
       "      <td>8.0</td>\n",
       "    </tr>\n",
       "    <tr>\n",
       "      <th>JLB003</th>\n",
       "      <td>2</td>\n",
       "      <td>Angličtina pro ekonomy I</td>\n",
       "      <td>NaN</td>\n",
       "      <td>Poslušná,L.</td>\n",
       "      <td>5.0</td>\n",
       "      <td>3.0</td>\n",
       "      <td>NaN</td>\n",
       "      <td>NaN</td>\n",
       "      <td>NaN</td>\n",
       "      <td>5.0</td>\n",
       "      <td>...</td>\n",
       "      <td>5.0</td>\n",
       "      <td>1.0</td>\n",
       "      <td>5.0</td>\n",
       "      <td>5.0</td>\n",
       "      <td>5.0</td>\n",
       "      <td>5.0</td>\n",
       "      <td>NaN</td>\n",
       "      <td>NaN</td>\n",
       "      <td>cjp</td>\n",
       "      <td>8.0</td>\n",
       "    </tr>\n",
       "    <tr>\n",
       "      <th>NMMA701</th>\n",
       "      <td>3</td>\n",
       "      <td>Matematika 1</td>\n",
       "      <td>Spurný,J.</td>\n",
       "      <td>Rondoš,J.</td>\n",
       "      <td>3.0</td>\n",
       "      <td>5.0</td>\n",
       "      <td>3.0</td>\n",
       "      <td>2.0</td>\n",
       "      <td>1.0</td>\n",
       "      <td>4.0</td>\n",
       "      <td>...</td>\n",
       "      <td>5.0</td>\n",
       "      <td>1.0</td>\n",
       "      <td>3.0</td>\n",
       "      <td>2.0</td>\n",
       "      <td>2.0</td>\n",
       "      <td>1.0</td>\n",
       "      <td>NaN</td>\n",
       "      <td>NaN</td>\n",
       "      <td>ies</td>\n",
       "      <td>8.0</td>\n",
       "    </tr>\n",
       "    <tr>\n",
       "      <th>JEB023</th>\n",
       "      <td>4</td>\n",
       "      <td>Úvod do studia práva</td>\n",
       "      <td>Pražák,P.,Wintr,J.</td>\n",
       "      <td>NaN</td>\n",
       "      <td>3.0</td>\n",
       "      <td>4.0</td>\n",
       "      <td>3.0</td>\n",
       "      <td>3.0</td>\n",
       "      <td>1.0</td>\n",
       "      <td>NaN</td>\n",
       "      <td>...</td>\n",
       "      <td>NaN</td>\n",
       "      <td>1.0</td>\n",
       "      <td>3.0</td>\n",
       "      <td>2.0</td>\n",
       "      <td>3.0</td>\n",
       "      <td>2.0</td>\n",
       "      <td>NaN</td>\n",
       "      <td>NaN</td>\n",
       "      <td>ies</td>\n",
       "      <td>7.0</td>\n",
       "    </tr>\n",
       "    <tr>\n",
       "      <th>JEB055</th>\n",
       "      <td>5</td>\n",
       "      <td>Seminář k aktualitám I</td>\n",
       "      <td>NaN</td>\n",
       "      <td>Vyhnánek,T.</td>\n",
       "      <td>2.0</td>\n",
       "      <td>3.0</td>\n",
       "      <td>NaN</td>\n",
       "      <td>NaN</td>\n",
       "      <td>NaN</td>\n",
       "      <td>2.0</td>\n",
       "      <td>...</td>\n",
       "      <td>1.0</td>\n",
       "      <td>1.0</td>\n",
       "      <td>4.0</td>\n",
       "      <td>2.0</td>\n",
       "      <td>2.0</td>\n",
       "      <td>1.0</td>\n",
       "      <td>NaN</td>\n",
       "      <td>NaN</td>\n",
       "      <td>ies</td>\n",
       "      <td>5.0</td>\n",
       "    </tr>\n",
       "  </tbody>\n",
       "</table>\n",
       "<p>5 rows × 21 columns</p>\n",
       "</div>"
      ],
      "text/plain": [
       "             number              course_title                        teachers  \\\n",
       "course_code                                                                     \n",
       "JEB003            1                Ekonomie I  Fanta,N.,Kracík,J.,Švarcová,N.   \n",
       "JLB003            2  Angličtina pro ekonomy I                             NaN   \n",
       "NMMA701           3              Matematika 1                       Spurný,J.   \n",
       "JEB023            4      Úvod do studia práva              Pražák,P.,Wintr,J.   \n",
       "JEB055            5    Seminář k aktualitám I                             NaN   \n",
       "\n",
       "                            seminar_leaders   q1   q2   q3   q4   q5   q6  \\\n",
       "course_code                                                                 \n",
       "JEB003       Fanta,N.,Kracík,J.,Švarcová,N.  3.0  5.0  4.0  5.0  4.0  2.0   \n",
       "JLB003                          Poslušná,L.  5.0  3.0  NaN  NaN  NaN  5.0   \n",
       "NMMA701                           Rondoš,J.  3.0  5.0  3.0  2.0  1.0  4.0   \n",
       "JEB023                                  NaN  3.0  4.0  3.0  3.0  1.0  NaN   \n",
       "JEB055                          Vyhnánek,T.  2.0  3.0  NaN  NaN  NaN  2.0   \n",
       "\n",
       "             ...   q8   q9  q10  q11  q12  q13  c_value c_improve  \\\n",
       "course_code  ...                                                    \n",
       "JEB003       ...  3.0  1.0  4.0  1.0  NaN  2.0      NaN       NaN   \n",
       "JLB003       ...  5.0  1.0  5.0  5.0  5.0  5.0      NaN       NaN   \n",
       "NMMA701      ...  5.0  1.0  3.0  2.0  2.0  1.0      NaN       NaN   \n",
       "JEB023       ...  NaN  1.0  3.0  2.0  3.0  2.0      NaN       NaN   \n",
       "JEB055       ...  1.0  1.0  4.0  2.0  2.0  1.0      NaN       NaN   \n",
       "\n",
       "            department_code sumq1q2  \n",
       "course_code                          \n",
       "JEB003                  ies     8.0  \n",
       "JLB003                  cjp     8.0  \n",
       "NMMA701                 ies     8.0  \n",
       "JEB023                  ies     7.0  \n",
       "JEB055                  ies     5.0  \n",
       "\n",
       "[5 rows x 21 columns]"
      ]
     },
     "execution_count": 98,
     "metadata": {},
     "output_type": "execute_result"
    }
   ],
   "source": [
    "df['sumq1q2'] = df.q1+df.q2\n",
    "df.head()"
   ]
  },
  {
   "cell_type": "code",
   "execution_count": null,
   "metadata": {},
   "outputs": [],
   "source": [
    "# drop column (you can also use 'del' (a general python comand for deleting)\n",
    "df.drop('tmp', axis = 1, inplace = True) # axis to specify you want to drop column, inplace operation in this case"
   ]
  },
  {
   "cell_type": "markdown",
   "metadata": {},
   "source": [
    "### loc and Idioms\n",
    "* `.loc` selects data by the label of the rows and columns (as opposed to the `.iloc`) integer location\n",
    "* we can also use `.loc` for subsetting based on condition(s)"
   ]
  },
  {
   "cell_type": "code",
   "execution_count": null,
   "metadata": {},
   "outputs": [],
   "source": [
    "# select only observations for IES only\n",
    "df_ies = df.loc[df['department_code'] == 'ies']"
   ]
  },
  {
   "cell_type": "code",
   "execution_count": null,
   "metadata": {},
   "outputs": [],
   "source": [
    "df_ies.head()"
   ]
  },
  {
   "cell_type": "code",
   "execution_count": null,
   "metadata": {},
   "outputs": [],
   "source": [
    "df['course_title'] == 'Advanced Econometrics'"
   ]
  },
  {
   "cell_type": "code",
   "execution_count": null,
   "metadata": {},
   "outputs": [],
   "source": [
    "# select only observations for Advanced Econometrics\n",
    "df.loc[df['course_title'] == 'Advanced Econometrics'].head(2)"
   ]
  },
  {
   "cell_type": "code",
   "execution_count": null,
   "metadata": {},
   "outputs": [],
   "source": [
    "\n",
    "# subsetting based on multiple conditions: AE and non-missing comment on what to improve\n",
    "df.loc[(df['course_title'] == 'Advanced Econometrics') & (~df['c_improve'].isnull())].head(2)"
   ]
  },
  {
   "cell_type": "markdown",
   "metadata": {},
   "source": [
    "* Sometimes, we don't have a clear list of columns to be selected ready, e.g. how to select columns from q1 to q13? \n",
    "    * using actual list of column names :(\n",
    "        * be lazy!\n",
    "    * or ... "
   ]
  },
  {
   "cell_type": "code",
   "execution_count": null,
   "metadata": {},
   "outputs": [],
   "source": [
    "# list comprehension\n",
    "print([x for x in df.columns if 'q' in x]) #by substring\n",
    "print([x for x in df.columns if (len(x) == 2) | (len(x) == 3)]) #by length\n",
    "# by regular expression is the safest - q and then at most 2 digit number -> later in course"
   ]
  },
  {
   "cell_type": "code",
   "execution_count": null,
   "metadata": {},
   "outputs": [],
   "source": [
    "q_columns = [x for x in df.columns if 'q' in x]\n",
    "df_q = df[q_columns]\n",
    "df_q.head()"
   ]
  },
  {
   "cell_type": "markdown",
   "metadata": {},
   "source": [
    "### Using functions on pandas objects\n",
    "\n",
    "| Operation          | Function              |\n",
    "|--------------------|-----------------------|\n",
    "| Row or Column-wise | `apply()`             |\n",
    "| Aggregation        | `agg() / transform()` |\n",
    "| Elementwise        | `applymap()`          |"
   ]
  },
  {
   "cell_type": "markdown",
   "metadata": {},
   "source": [
    "**Tablewise**\n",
    "* DFs and Series can be arguments of the functions\n",
    "* if multiple functions need to be called in a sequence, use `pipe()` method, also called the method chaining\n",
    "    * often used in the data science setting\n",
    "    * inspired by unix pipes and dplyr (%>%) operator in R "
   ]
  },
  {
   "cell_type": "markdown",
   "metadata": {},
   "source": [
    "**Row or Column-wise Function Application**\n",
    "* `apply()` is extremely powerful, when used with some brainpower"
   ]
  },
  {
   "cell_type": "code",
   "execution_count": null,
   "metadata": {},
   "outputs": [],
   "source": [
    "df_q.apply(np.mean, axis = 0)"
   ]
  },
  {
   "cell_type": "code",
   "execution_count": null,
   "metadata": {},
   "outputs": [],
   "source": [
    "# using lambda - anonymous function\n",
    "#standardization to unit variance\n",
    "df_q.apply(lambda x: (x - np.mean(x)) / np.std(x), axis = 0)"
   ]
  },
  {
   "cell_type": "code",
   "execution_count": null,
   "metadata": {},
   "outputs": [],
   "source": [
    "# using custom function, with arguments (could have also be done with lambda)\n",
    "def add_and_substract(df, sub = 1, add = 1):\n",
    "    return df - sub + add\n",
    "df_q.apply(add_and_substract, args = (0,0));"
   ]
  },
  {
   "cell_type": "code",
   "execution_count": null,
   "metadata": {},
   "outputs": [],
   "source": [
    "# A little bit more sophisticated:  e.g. get index of the observation with the longest value comment\n",
    "df['c_value'].apply(lambda x: len(str(x))).idxmax()"
   ]
  },
  {
   "cell_type": "markdown",
   "metadata": {},
   "source": [
    "**Aggregation**\n",
    "* *`aggregate()`* and *`transform()`*\n",
    "* aggregation allows multiple aggregation operations in a single concise way\n",
    "* `transform()` method returns an object that is indexed the same as the original\n",
    "   * allows multiple operations at the same time, instead of one-by-one as `aggregate()` method"
   ]
  },
  {
   "cell_type": "code",
   "execution_count": null,
   "metadata": {},
   "outputs": [],
   "source": [
    "# aggregating simple function is the same as apply\n",
    "df_q.agg(np.mean, axis = 0)"
   ]
  },
  {
   "cell_type": "code",
   "execution_count": null,
   "metadata": {},
   "outputs": [],
   "source": [
    "# aggregating more functions more interesting (you could do your own describe function easily! )\n",
    "df_q.aggregate([np.mean, np.std, np.min, np.max], axis = 0)"
   ]
  },
  {
   "cell_type": "code",
   "execution_count": null,
   "metadata": {},
   "outputs": [],
   "source": [
    "# aggregating using dictionary, i.e. column specific aggregation \n",
    "df_q.agg({'q1' : [np.mean], 'q2': np.std, 'q3': [np.mean, np.std, np.var]})"
   ]
  },
  {
   "cell_type": "code",
   "execution_count": null,
   "metadata": {},
   "outputs": [],
   "source": [
    "# using single function, the same as with apply\n",
    "df_q.transform(lambda x: np.power(x,2));"
   ]
  },
  {
   "cell_type": "code",
   "execution_count": null,
   "metadata": {},
   "outputs": [],
   "source": [
    "# using multiple functions (can also be done using dictionary as in the case of aggregate)\n",
    "df_q.transform([np.abs, lambda x: x + 1]);"
   ]
  },
  {
   "cell_type": "markdown",
   "metadata": {},
   "source": [
    "## Missing values"
   ]
  },
  {
   "cell_type": "code",
   "execution_count": null,
   "metadata": {},
   "outputs": [],
   "source": [
    "df[df.isnull()].head()"
   ]
  },
  {
   "cell_type": "code",
   "execution_count": null,
   "metadata": {},
   "outputs": [],
   "source": [
    "# % of missing observations for specific column\n",
    "df['q5'].isnull().sum() / df['q1'].isnull().count()"
   ]
  },
  {
   "cell_type": "code",
   "execution_count": null,
   "metadata": {},
   "outputs": [],
   "source": [
    "# replacing missing values\n",
    "df['q1'].fillna(-99);"
   ]
  },
  {
   "cell_type": "code",
   "execution_count": null,
   "metadata": {},
   "outputs": [],
   "source": []
  },
  {
   "cell_type": "markdown",
   "metadata": {
    "jupyter": {
     "source_hidden": true
    },
    "tags": []
   },
   "source": [
    "## Matplotlib <a name=\"introduction\"></a>\n",
    "\n",
    "* \"A picture is worth a thousand words.\"\n",
    "    * more like \"A picture is worth a few lines of code.\"\n",
    "* development started in 2003 by John D. Hunter, a neurobiologist (inspired by MATLAB software)\n",
    "* generating basic plots in *matplotlib* is simple, mastering the library can be little bit less pleseant (we skip this part)\n",
    "* you can have as much control as you want, but you can also concede as much control as you want \n",
    "* [**gallery**](https://matplotlib.org/stable/gallery/index.html)\n",
    "    * can get help to problems like \"I want to make a figure that looks something I've seen somewhere.\" (hard to google)\n",
    "* plotting consists of many layers, from general 'contour this 2D array' to very specific 'color this screen pixel'\n",
    "    * key is allowing both levels to coexist in one package\n",
    "* *matplotlib* has 2 interfaces:\n",
    "    1. \"state-machine environment\" (based on MATLAB)\n",
    "    2. a object-oriented interface (we will cover object-oriented paradigm (in general) during the next lecture)\n",
    "* this often creates confusion (multiple, conflicting, solutions on the web)\n",
    "* another common confusion is the relationship of *Matplotlib, pyplot and pylab*\n",
    "    * Matplotlib is the whole package\n",
    "    * `matplotlib.pyplot` is a module in matplotlib\n",
    "    * `pylab` is a a convenience module doing a bulk import of `pyplot` and `numpy`\n",
    "\n",
    "* [anatomy of the plot](https://matplotlib.org/examples/showcase/anatomy.html) from matplotlib\n",
    "\n",
    "<img src= \"https://matplotlib.org/_images/anatomy.png\" width= \"600\" height=\"400\">\n",
    "\n",
    "* the *figure* keeps track of all the child *Axes*, titles,legends, etc.\n",
    "    * the figure can have any number of *Axes*\n",
    "* *Axes* is 'a plot', i.e. the region of the image with the data space\n",
    "    * given *Axes* object can only be in one Figure\n",
    "    * *Axes* contains 2 (3 in case of 3D) *Axis* objects which take care of the data limits (conrolled via `set_xlim()` method)\n",
    "    * each *Axes* has a title (`set_title()`), an x- and y-labels (`set_xlabel()`)\n",
    "* *Artist* is anything you can see on the figure, e.g. text objects, Line2D objects, etc.\n",
    "\n",
    "* `matplolib.pyplot` functions make some changes to a figure, e.g. create a figure, plot some lines, etc.\n",
    "    * the plotting functions are directed to the current axes\n",
    "\n",
    "* all of plotting functions expect `np.array` or `array-like` data objects (for majority of cases works out of the box)"
   ]
  },
  {
   "cell_type": "code",
   "execution_count": null,
   "metadata": {},
   "outputs": [],
   "source": [
    "# increasing the size of the figure\n",
    "plt.figure(figsize = (20,10))"
   ]
  },
  {
   "cell_type": "code",
   "execution_count": null,
   "metadata": {},
   "outputs": [],
   "source": [
    "from time import sleep\n",
    "for style in plt.style.available:\n",
    "    plt.style.use(style)\n",
    "    print(style)\n",
    "    plt.figure(figsize=(5,2))\n",
    "    plt.plot(np.sin(np.linspace(0,2*np.pi)))\n",
    "    plt.show()\n",
    "    sleep(1)"
   ]
  },
  {
   "cell_type": "code",
   "execution_count": null,
   "metadata": {},
   "outputs": [],
   "source": [
    "plt.style.use('ggplot')\n",
    "# minimum example of pyplot\n",
    "x = np.linspace(0, 2, 100)\n",
    "\n",
    "# we can also specify only \"y\" and use default x-axis: plt.plot(x, label='linear')\n",
    "plt.plot(x, x, label='linear',  linewidth=2.0)\n",
    "plt.plot(x, x**2, label='quadratic')\n",
    "plt.plot(x, np.sqrt(x),'k^:',label='sqrt')\n",
    "\n",
    "plt.xlabel('x label')\n",
    "plt.ylabel('y label')\n",
    "\n",
    "plt.title(\"Basic plots\")\n",
    "\n",
    "plt.legend(loc = 'best');"
   ]
  },
  {
   "cell_type": "markdown",
   "metadata": {},
   "source": [
    "* for multiple subplots: `fig, (ax0, ax1) = plt.subplots(nrows=1, ncols=2, sharey=True, figsize=(7, 4))`\n",
    "* call `plt.subplot()` and specify three numbers:\n",
    "    * number of rows\n",
    "    * number of columns\n",
    "    * subplot number you want to activate.\n",
    "* if subplots are too squished `plt.tight_layout()`"
   ]
  },
  {
   "cell_type": "code",
   "execution_count": null,
   "metadata": {},
   "outputs": [],
   "source": [
    "for i in range (1, 5):\n",
    "    plt.subplot(2, 2, i)\n",
    "    plt.text(0.5,0.5, str((2, 2, i)), ha='center', fontsize = 10) #again, just a plot\n",
    "    plt.tight_layout() \n",
    "    plt.grid(True) # add the grid"
   ]
  },
  {
   "cell_type": "code",
   "execution_count": null,
   "metadata": {},
   "outputs": [],
   "source": [
    "# for multiple figures and axes \n",
    "def f(x):\n",
    "    return np.cos(2*np.pi*x)\n",
    "\n",
    "x1 = np.arange(0.0, 5.0, 0.1)\n",
    "x2 = np.arange(0.0, 5.0, 0.02)\n",
    "\n",
    "plt.figure(1) # optional, since figure(1) will be created by default\n",
    "plt.subplot(211)\n",
    "plt.plot(x1, f(x1), 'bo', x2, f(x2), 'k')\n",
    "\n",
    "plt.subplot(212)\n",
    "plt.plot(x2, np.tan(2*np.pi*x2), 'r--')"
   ]
  },
  {
   "cell_type": "code",
   "execution_count": null,
   "metadata": {},
   "outputs": [],
   "source": [
    "mu, sigma, n = 100, 15, 10000\n",
    "x = np.random.normal(mu, sigma, n)\n",
    "\n",
    "# the histogram of the data\n",
    "plt.hist(x, bins = 50, density= True, facecolor='g')\n",
    "\n",
    "plt.xlabel('x')\n",
    "plt.ylabel('Probability')\n",
    "plt.title('Histogram of X')\n",
    "\n",
    "# meaningful text\n",
    "plt.text(60, .025, f'$\\mu={mu},\\ \\sigma={sigma}$')\n",
    "# tail events text\n",
    "plt.text(40, .00025, f\"I've seen better times.\")\n",
    "\n",
    "plt.grid(True)"
   ]
  },
  {
   "cell_type": "markdown",
   "metadata": {},
   "source": [
    "## Saving plots"
   ]
  },
  {
   "cell_type": "code",
   "execution_count": null,
   "metadata": {},
   "outputs": [],
   "source": [
    "ax = plt.subplot(111)\n",
    "t = np.arange(0.0, 5.0, 0.01)\n",
    "s = np.cos(2*np.pi*t)\n",
    "line, = plt.plot(t, s, lw=2)\n",
    "plt.annotate(\"'go home, you are drunk'-arrow'\", xy=(4.5, -1.7), xytext=(0.3, 1.7),\n",
    "             arrowprops=dict(facecolor='black', shrink=0.05),\n",
    "             )\n",
    "plt.ylim(-2, 2)\n",
    "\n",
    "# actually saving\n",
    "plt.savefig('auxiliary/go_home_you_drunk.png')"
   ]
  },
  {
   "cell_type": "code",
   "execution_count": null,
   "metadata": {},
   "outputs": [],
   "source": []
  }
 ],
 "metadata": {
  "kernelspec": {
   "display_name": "Python 3 (ipykernel)",
   "language": "python",
   "name": "python3"
  },
  "language_info": {
   "codemirror_mode": {
    "name": "ipython",
    "version": 3
   },
   "file_extension": ".py",
   "mimetype": "text/x-python",
   "name": "python",
   "nbconvert_exporter": "python",
   "pygments_lexer": "ipython3",
   "version": "3.7.5"
  }
 },
 "nbformat": 4,
 "nbformat_minor": 4
}
